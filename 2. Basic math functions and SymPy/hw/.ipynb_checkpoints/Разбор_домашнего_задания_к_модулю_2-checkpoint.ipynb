{
 "cells": [
  {
   "cell_type": "code",
   "execution_count": 27,
   "metadata": {
    "id": "cgqVvH4Jfdr6"
   },
   "outputs": [],
   "source": [
    "from sympy import *\n",
    "from math import *"
   ]
  },
  {
   "cell_type": "markdown",
   "metadata": {
    "id": "20kI0fC7fdsH"
   },
   "source": [
    "Средний уровень."
   ]
  },
  {
   "cell_type": "markdown",
   "metadata": {
    "id": "UPDt_yuerryE"
   },
   "source": [
    "Первые три задания похожи по логике решения.\n",
    "Главной задачей здесь является точный перенос выражения со всеми действиями и приоритетами действий. Пайтону нужно явно указать какие действия и когда нужно выполнять, легче всего это сделать прип помощи скобок.\n"
   ]
  },
  {
   "cell_type": "markdown",
   "metadata": {
    "id": "kDUq5727fdsK"
   },
   "source": [
    "1:"
   ]
  },
  {
   "cell_type": "code",
   "execution_count": 28,
   "metadata": {
    "colab": {
     "base_uri": "https://localhost:8080/",
     "height": 36
    },
    "id": "waeRhQFtfdsL",
    "outputId": "fa2b861a-3d5d-4dd9-f49b-6a005ce3d899"
   },
   "outputs": [
    {
     "data": {
      "text/latex": [
       "$\\displaystyle 2.0$"
      ],
      "text/plain": [
       "2.00000000000000"
      ]
     },
     "execution_count": 28,
     "metadata": {
      "tags": []
     },
     "output_type": "execute_result"
    }
   ],
   "source": [
    "expression = (13**0.5 + 7**0.5)**2 / (10 + 91**0.5)\n",
    "# так, в этом примере мы скобками показываем, что всё выражение сверху нужно поделить на всё выражение снизу\n",
    "# если бы мы убрали нижние скобки: expression = (13**0.5 + 7**0.5)**2 / 10 + 91**0.5\n",
    "# то пайтон бы поделил верхнее выражение на 10, а затем к результату добавил 91**0.5\n",
    "simplify(expression)"
   ]
  },
  {
   "cell_type": "markdown",
   "metadata": {
    "id": "dadSs816fdsN"
   },
   "source": [
    "2:"
   ]
  },
  {
   "cell_type": "code",
   "execution_count": 29,
   "metadata": {
    "id": "xyEaJPaQfdsN"
   },
   "outputs": [],
   "source": [
    "b = Symbol('b')"
   ]
  },
  {
   "cell_type": "code",
   "execution_count": 30,
   "metadata": {
    "id": "zSQ3sn2NfdsO"
   },
   "outputs": [],
   "source": [
    "b = 10**5"
   ]
  },
  {
   "cell_type": "code",
   "execution_count": 31,
   "metadata": {
    "colab": {
     "base_uri": "https://localhost:8080/",
     "height": 36
    },
    "id": "niFAyhnIfdsP",
    "outputId": "f30514d7-5f59-4228-edf1-3f4bed6dccd5"
   },
   "outputs": [
    {
     "data": {
      "text/latex": [
       "$\\displaystyle -14.0$"
      ],
      "text/plain": [
       "-14.0000000000000"
      ]
     },
     "execution_count": 31,
     "metadata": {
      "tags": []
     },
     "output_type": "execute_result"
    }
   ],
   "source": [
    "expression = log10(10/b**3)\n",
    "# здесь мы используем готовую функцию log10, но в целом можно взять обычную функцию log и добавить в неё параметром нужное нам основание:\n",
    "# expression = log(10/b**3, 10)\n",
    "simplify(expression)"
   ]
  },
  {
   "cell_type": "markdown",
   "metadata": {
    "id": "gWQkY_SffdsQ"
   },
   "source": [
    "3:"
   ]
  },
  {
   "cell_type": "code",
   "execution_count": 32,
   "metadata": {
    "id": "oqp_CL2ifdsR"
   },
   "outputs": [],
   "source": [
    "a = Symbol('a')"
   ]
  },
  {
   "cell_type": "code",
   "execution_count": 33,
   "metadata": {
    "colab": {
     "base_uri": "https://localhost:8080/",
     "height": 37
    },
    "id": "CY9cQYaSfdsR",
    "outputId": "150a65a5-d1d8-419f-e091-8f44a1b621ff"
   },
   "outputs": [
    {
     "data": {
      "text/latex": [
       "$\\displaystyle 6 a^{3.0}$"
      ],
      "text/plain": [
       "6*a**3.0"
      ]
     },
     "execution_count": 33,
     "metadata": {
      "tags": []
     },
     "output_type": "execute_result"
    }
   ],
   "source": [
    "expression = 2*a*(a**(4/3)) * 3*(a**(2/3))\n",
    "# очень важным здесь является взятие дробей в скобки\n",
    "# отсутствие скобок в таком случае может привести к тому, что сперва пайтон возведет число в степень (числитель)\n",
    "# а затем поделит полученное число на знаменатель \n",
    "simplify(expression)"
   ]
  },
  {
   "cell_type": "markdown",
   "metadata": {
    "id": "5409XGqXuqxT"
   },
   "source": [
    "Результатами везде должно быть максимально упрощенное выражение, полученное при помощи функции simplify"
   ]
  },
  {
   "cell_type": "markdown",
   "metadata": {
    "id": "6TLIk1YrfdsS"
   },
   "source": [
    "4:"
   ]
  },
  {
   "cell_type": "markdown",
   "metadata": {
    "id": "MSyOSG2stkdo"
   },
   "source": [
    "Эти три задания тоже связаны между собой.\n",
    "Реализация первых двух функций с разными подходами к вычислению логарифма, \n",
    "помогают наглядно продемонстрировать ответ к третьему заданию."
   ]
  },
  {
   "cell_type": "code",
   "execution_count": 34,
   "metadata": {
    "colab": {
     "base_uri": "https://localhost:8080/"
    },
    "id": "e4ccJ3M9fdsS",
    "outputId": "c3c6288b-1e1d-4c04-b5bc-71435aaf0dd3"
   },
   "outputs": [
    {
     "data": {
      "text/plain": [
       "4.787491742782046"
      ]
     },
     "execution_count": 34,
     "metadata": {
      "tags": []
     },
     "output_type": "execute_result"
    }
   ],
   "source": [
    "def ln_sum(n):\n",
    "    if n < 1:\n",
    "        return 0\n",
    "    return log(n) + ln_sum(n-1)\n",
    "\n",
    "ln_sum(5)"
   ]
  },
  {
   "cell_type": "markdown",
   "metadata": {
    "id": "4c9ylXuKfdsT"
   },
   "source": [
    "5:"
   ]
  },
  {
   "cell_type": "code",
   "execution_count": 35,
   "metadata": {
    "colab": {
     "base_uri": "https://localhost:8080/"
    },
    "id": "0rdpO-o_fdsU",
    "outputId": "fba82c08-a17f-48b0-c995-c64cb546b9cd"
   },
   "outputs": [
    {
     "data": {
      "text/plain": [
       "4.787491742782046"
      ]
     },
     "execution_count": 35,
     "metadata": {
      "tags": []
     },
     "output_type": "execute_result"
    }
   ],
   "source": [
    "def ln_product(n):\n",
    "    product = 1\n",
    "    for i in range(1, n+1):\n",
    "        product = product*i\n",
    "    return log(product)\n",
    "\n",
    "ln_product(5)"
   ]
  },
  {
   "cell_type": "markdown",
   "metadata": {
    "id": "YISVF4art2GA"
   },
   "source": [
    "Результатами первых двух заданий должны быть функции, которые принимают на вход число, а на выход возвращают посчитанное выражение - логарифм произведения всех чисел от 1 до указанного числа.\n",
    "При этом в первом случае мы считаем логарифм произведения чисел как сумму логарифмов, а во втором - мы сперва находим произведение чисел и только потом используем функцию логарифма."
   ]
  },
  {
   "cell_type": "markdown",
   "metadata": {
    "id": "pYYAiicCfdsU"
   },
   "source": [
    "6:"
   ]
  },
  {
   "cell_type": "markdown",
   "metadata": {
    "id": "CuzG1YTVfdsV"
   },
   "source": [
    "Функции 4 и 5 эквивалентны ввиду свойства сложения логорифмов с одинаковым основанием: loga(b) + loga(c) = loga(bc)"
   ]
  },
  {
   "cell_type": "code",
   "execution_count": 36,
   "metadata": {
    "colab": {
     "base_uri": "https://localhost:8080/"
    },
    "id": "NKPOO5ryujiC",
    "outputId": "11460707-f1cc-4c7b-da09-5153181f1d88"
   },
   "outputs": [
    {
     "data": {
      "text/plain": [
       "True"
      ]
     },
     "execution_count": 36,
     "metadata": {
      "tags": []
     },
     "output_type": "execute_result"
    }
   ],
   "source": [
    "ln_sum(5) == ln_product(5)"
   ]
  },
  {
   "cell_type": "markdown",
   "metadata": {
    "id": "-_aykDoYuTT_"
   },
   "source": [
    "В 6ом задании необходимо сформировать тектсовый вывод, обосновать свой ответ свойством и наглядно его доказать при помощи функций из заданий 4 и 5"
   ]
  },
  {
   "cell_type": "markdown",
   "metadata": {
    "id": "FaAKbwLdfdsV"
   },
   "source": [
    "Сложный уровень:"
   ]
  },
  {
   "cell_type": "markdown",
   "metadata": {
    "id": "RaPFnGdZuoaP"
   },
   "source": [
    "Задания сложного уровня по логике выполнения не отличаются от заданий 1-3 среднего уровня. Усложняются только сами структуры выражений, с которыми вам предстоит работать. Важно внимательно расставить скобки, чтобы утвердить приоритет операций и применить к получившемуся выражению функцию simplify для упрощения результатов."
   ]
  },
  {
   "cell_type": "markdown",
   "metadata": {
    "id": "UhjGaMGWfdsW"
   },
   "source": [
    "1:"
   ]
  },
  {
   "cell_type": "code",
   "execution_count": 37,
   "metadata": {
    "colab": {
     "base_uri": "https://localhost:8080/",
     "height": 36
    },
    "id": "iVx102aRfdsW",
    "outputId": "b26b7f7f-57c9-4508-fcec-651e93103582"
   },
   "outputs": [
    {
     "data": {
      "text/latex": [
       "$\\displaystyle 4$"
      ],
      "text/plain": [
       "4"
      ]
     },
     "execution_count": 37,
     "metadata": {
      "tags": []
     },
     "output_type": "execute_result"
    }
   ],
   "source": [
    "expression = (15*(a**(1/28))**(1/5) - 7*(a**(1/20))**(1/7)) / (2*(a**(1/4))**(1/35))\n",
    "simplify(expression)"
   ]
  },
  {
   "cell_type": "markdown",
   "metadata": {
    "id": "yETYwV-vfdsX"
   },
   "source": [
    "2:"
   ]
  },
  {
   "cell_type": "code",
   "execution_count": 38,
   "metadata": {
    "id": "nMwYrgkNfdsX"
   },
   "outputs": [],
   "source": [
    "x = Symbol('x')\n",
    "g = Symbol('g')"
   ]
  },
  {
   "cell_type": "code",
   "execution_count": 39,
   "metadata": {
    "colab": {
     "base_uri": "https://localhost:8080/",
     "height": 36
    },
    "id": "6RwDYNWEfdsX",
    "outputId": "a1695875-9c76-4856-f080-2a512fb60287"
   },
   "outputs": [
    {
     "data": {
      "text/latex": [
       "$\\displaystyle 1$"
      ],
      "text/plain": [
       "1"
      ]
     },
     "execution_count": 39,
     "metadata": {
      "tags": []
     },
     "output_type": "execute_result"
    }
   ],
   "source": [
    "g = (x*(4 - x))**(1/3)\n",
    "expression = ((2 - x)*(4 - (2 - x)))**(1/3) / ((2 + x)*(4 - (2 + x)))**(1/3)\n",
    "simplify(expression)"
   ]
  },
  {
   "cell_type": "markdown",
   "metadata": {
    "id": "qeH5YSdvfdsY"
   },
   "source": [
    "3:"
   ]
  },
  {
   "cell_type": "code",
   "execution_count": 40,
   "metadata": {
    "colab": {
     "base_uri": "https://localhost:8080/",
     "height": 36
    },
    "id": "cD-qbcesfdsZ",
    "outputId": "cc881eba-1d2d-4c95-c79e-7bbc09adeb6b"
   },
   "outputs": [
    {
     "data": {
      "text/latex": [
       "$\\displaystyle 5$"
      ],
      "text/plain": [
       "5"
      ]
     },
     "execution_count": 40,
     "metadata": {
      "tags": []
     },
     "output_type": "execute_result"
    }
   ],
   "source": [
    "expression = ((2*x**3)**4 - (x**2)**6) / (3*x**12)\n",
    "simplify(expression)"
   ]
  },
  {
   "cell_type": "markdown",
   "metadata": {
    "id": "6_fble5cfdsa"
   },
   "source": [
    "4:"
   ]
  },
  {
   "cell_type": "code",
   "execution_count": 41,
   "metadata": {
    "colab": {
     "base_uri": "https://localhost:8080/",
     "height": 51
    },
    "id": "h_qHfHqUfdsa",
    "outputId": "df2ffded-4d7e-4e39-989d-f5d87e0adbe0"
   },
   "outputs": [
    {
     "data": {
      "text/latex": [
       "$\\displaystyle - \\frac{1}{250000000000000}$"
      ],
      "text/plain": [
       "-1/250000000000000"
      ]
     },
     "execution_count": 41,
     "metadata": {
      "tags": []
     },
     "output_type": "execute_result"
    }
   ],
   "source": [
    "expression = (11 * a**6 * b**3 - (3 * a**2 * b)**3) / (4 * a**6 * b**6)\n",
    "simplify(expression)"
   ]
  },
  {
   "cell_type": "code",
   "execution_count": 42,
   "metadata": {
    "colab": {
     "base_uri": "https://localhost:8080/",
     "height": 51
    },
    "id": "NlxiYm24fdsb",
    "outputId": "d3e99d13-6521-4d1f-de05-5a7cac431171"
   },
   "outputs": [
    {
     "data": {
      "text/latex": [
       "$\\displaystyle - \\frac{1}{2}$"
      ],
      "text/plain": [
       "-1/2"
      ]
     },
     "execution_count": 42,
     "metadata": {
      "tags": []
     },
     "output_type": "execute_result"
    }
   ],
   "source": [
    "b = 2\n",
    "expression = (11 * a**6 * b**3 - (3 * a**2 * b)**3) / (4 * a**6 * b**6)\n",
    "simplify(expression)"
   ]
  },
  {
   "cell_type": "code",
   "execution_count": 42,
   "metadata": {
    "id": "ufiuv4rZfdsb"
   },
   "outputs": [],
   "source": []
  }
 ],
 "metadata": {
  "colab": {
   "name": "Разбор_домашнего_задания_к_модулю_2.ipynb",
   "provenance": []
  },
  "kernelspec": {
   "display_name": "Python 3 (ipykernel)",
   "language": "python",
   "name": "python3"
  },
  "language_info": {
   "codemirror_mode": {
    "name": "ipython",
    "version": 3
   },
   "file_extension": ".py",
   "mimetype": "text/x-python",
   "name": "python",
   "nbconvert_exporter": "python",
   "pygments_lexer": "ipython3",
   "version": "3.9.7"
  },
  "toc": {
   "base_numbering": 1,
   "nav_menu": {},
   "number_sections": true,
   "sideBar": true,
   "skip_h1_title": false,
   "title_cell": "Table of Contents",
   "title_sidebar": "Contents",
   "toc_cell": false,
   "toc_position": {},
   "toc_section_display": true,
   "toc_window_display": false
  }
 },
 "nbformat": 4,
 "nbformat_minor": 1
}
