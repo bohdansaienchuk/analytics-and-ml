{
 "cells": [
  {
   "cell_type": "code",
   "execution_count": 2,
   "id": "b75574a4",
   "metadata": {},
   "outputs": [],
   "source": [
    "from sympy import *\n",
    "import math\n",
    "\n",
    "init_printing(use_unicode=False, wrap_line=False, no_global=True)"
   ]
  },
  {
   "cell_type": "markdown",
   "id": "6d7c6aee",
   "metadata": {},
   "source": [
    "# middle level"
   ]
  },
  {
   "cell_type": "markdown",
   "id": "0e32e276",
   "metadata": {},
   "source": [
    "## task 1"
   ]
  },
  {
   "cell_type": "code",
   "execution_count": 4,
   "id": "f1585eaf",
   "metadata": {},
   "outputs": [
    {
     "data": {
      "image/png": "[encoded data removed]",
      "text/latex": [
       "$\\displaystyle 2.0$"
      ],
      "text/plain": [
       "1.9999999999999996"
      ]
     },
     "execution_count": 4,
     "metadata": {},
     "output_type": "execute_result"
    }
   ],
   "source": [
    "(math.sqrt(13) + math.sqrt(7))**2/(10 + math.sqrt(91))"
   ]
  },
  {
   "cell_type": "markdown",
   "id": "ac64f50a",
   "metadata": {},
   "source": [
    "## task 2"
   ]
  },
  {
   "cell_type": "code",
   "execution_count": 9,
   "id": "c8f23652",
   "metadata": {},
   "outputs": [
    {
     "data": {
      "image/png": "[encoded data removed]",
      "text/latex": [
       "$\\displaystyle -14.0$"
      ],
      "text/plain": [
       "-14.0"
      ]
     },
     "execution_count": 9,
     "metadata": {},
     "output_type": "execute_result"
    }
   ],
   "source": [
    "b = 10**5\n",
    "math.log10(10/b**3)"
   ]
  },
  {
   "cell_type": "markdown",
   "id": "1ab128d6",
   "metadata": {},
   "source": [
    "## task 3"
   ]
  },
  {
   "cell_type": "code",
   "execution_count": 10,
   "id": "d174a338",
   "metadata": {},
   "outputs": [],
   "source": [
    "a = Symbol('a')"
   ]
  },
  {
   "cell_type": "code",
   "execution_count": 26,
   "id": "ee61b14a",
   "metadata": {},
   "outputs": [],
   "source": [
    "expression = simplify(2*a*a**(4/3)*3*a**(2/3))"
   ]
  },
  {
   "cell_type": "code",
   "execution_count": 27,
   "id": "91a97d1d",
   "metadata": {},
   "outputs": [
    {
     "data": {
      "image/png": "[encoded data removed]",
      "text/latex": [
       "$\\displaystyle 6 a^{3.0}$"
      ],
      "text/plain": [
       "   3.0\n",
       "6*a   "
      ]
     },
     "execution_count": 27,
     "metadata": {},
     "output_type": "execute_result"
    }
   ],
   "source": [
    "expression"
   ]
  },
  {
   "cell_type": "markdown",
   "id": "1a60692c",
   "metadata": {},
   "source": [
    "## task 4"
   ]
  },
  {
   "cell_type": "code",
   "execution_count": 87,
   "id": "3fd19d27",
   "metadata": {},
   "outputs": [],
   "source": [
    "def sum_calculation(n):\n",
    "    suma = sum([math.log1p(num) for num in range(1, n+1)])\n",
    "        \n",
    "    return round(suma, 2)"
   ]
  },
  {
   "cell_type": "markdown",
   "id": "039090bc",
   "metadata": {},
   "source": [
    "## task 5"
   ]
  },
  {
   "cell_type": "code",
   "execution_count": 86,
   "id": "20a800f3",
   "metadata": {},
   "outputs": [],
   "source": [
    "def derivative_calculation(n):\n",
    "    der = math.log1p(math.factorial(n))\n",
    "    \n",
    "    return round(der, 2)"
   ]
  },
  {
   "cell_type": "markdown",
   "id": "8a012922",
   "metadata": {},
   "source": [
    "## task 6"
   ]
  },
  {
   "cell_type": "code",
   "execution_count": 88,
   "id": "df9aa074",
   "metadata": {},
   "outputs": [
    {
     "name": "stdout",
     "output_type": "stream",
     "text": [
      "6.58 - 6.58\n"
     ]
    }
   ],
   "source": [
    "print(f\"{sum_calculation(5)} - {derivative_calculation(6)}\")"
   ]
  },
  {
   "cell_type": "code",
   "execution_count": 97,
   "id": "602b8e4b",
   "metadata": {},
   "outputs": [],
   "source": [
    "# точно не уверен, но, по моему мнению, количество итераций для получения суммы ряда чисел на 1 больше, \n",
    "# чем факториала числа, что эквивалетно степени, в которую необходимо возвести число"
   ]
  },
  {
   "cell_type": "markdown",
   "id": "a03df684",
   "metadata": {},
   "source": [
    "# hard level"
   ]
  },
  {
   "cell_type": "markdown",
   "id": "e5997e84",
   "metadata": {},
   "source": [
    "## task 1"
   ]
  },
  {
   "cell_type": "code",
   "execution_count": 132,
   "id": "42afab6a",
   "metadata": {},
   "outputs": [
    {
     "data": {
      "image/png": "[encoded data removed]",
      "text/latex": [
       "$\\displaystyle 4$"
      ],
      "text/plain": [
       "4"
      ]
     },
     "execution_count": 132,
     "metadata": {},
     "output_type": "execute_result"
    }
   ],
   "source": [
    "simplify(15*a**(1/(5*28)) - 7*a**(1/(7*20)))/(2*a**(1/(35*4)))"
   ]
  },
  {
   "cell_type": "markdown",
   "id": "c3dfa2d4",
   "metadata": {},
   "source": [
    "## task 2"
   ]
  },
  {
   "cell_type": "code",
   "execution_count": 110,
   "id": "ee537518",
   "metadata": {},
   "outputs": [],
   "source": [
    "x = Symbol('x')"
   ]
  },
  {
   "cell_type": "code",
   "execution_count": 131,
   "id": "68e85f01",
   "metadata": {},
   "outputs": [
    {
     "data": {
      "image/png": "[encoded data removed]",
      "text/latex": [
       "$\\displaystyle \\frac{2 - \\left(x \\left(4 - x\\right)\\right)^{0.333333333333333}}{\\left(x \\left(4 - x\\right)\\right)^{0.333333333333333} + 2}$"
      ],
      "text/plain": [
       "               0.333333333333333\n",
       "2 - (x*(4 - x))                 \n",
       "--------------------------------\n",
       "           0.333333333333333    \n",
       "(x*(4 - x))                  + 2"
      ]
     },
     "execution_count": 131,
     "metadata": {},
     "output_type": "execute_result"
    }
   ],
   "source": [
    "simplify((2 - ((4*x - x**2)**(1/3)))/(2 + ((4*x - x**2)**(1/3))))"
   ]
  },
  {
   "cell_type": "markdown",
   "id": "61ff7337",
   "metadata": {},
   "source": [
    "## task 3"
   ]
  },
  {
   "cell_type": "code",
   "execution_count": 130,
   "id": "088a45aa",
   "metadata": {},
   "outputs": [
    {
     "data": {
      "image/png": "[encoded data removed]",
      "text/latex": [
       "$\\displaystyle \\frac{1}{3}$"
      ],
      "text/plain": [
       "1/3"
      ]
     },
     "execution_count": 130,
     "metadata": {},
     "output_type": "execute_result"
    }
   ],
   "source": [
    "simplify(((2*x**12) - (x**12))/(3*x**12))"
   ]
  },
  {
   "cell_type": "markdown",
   "id": "4effc170",
   "metadata": {},
   "source": [
    "## task 4"
   ]
  },
  {
   "cell_type": "code",
   "execution_count": 129,
   "id": "c683522e",
   "metadata": {},
   "outputs": [
    {
     "data": {
      "image/png": "[encoded data removed]",
      "text/latex": [
       "$\\displaystyle \\frac{1}{4}$"
      ],
      "text/plain": [
       "1/4"
      ]
     },
     "execution_count": 129,
     "metadata": {},
     "output_type": "execute_result"
    }
   ],
   "source": [
    "b = 2\n",
    "simplify((11*a**6*b**3 - 3*a**6*b**3))/(4*(a*b)**6)"
   ]
  }
 ],
 "metadata": {
  "kernelspec": {
   "display_name": "Python 3 (ipykernel)",
   "language": "python",
   "name": "python3"
  },
  "language_info": {
   "codemirror_mode": {
    "name": "ipython",
    "version": 3
   },
   "file_extension": ".py",
   "mimetype": "text/x-python",
   "name": "python",
   "nbconvert_exporter": "python",
   "pygments_lexer": "ipython3",
   "version": "3.9.7"
  },
  "toc": {
   "base_numbering": 1,
   "nav_menu": {},
   "number_sections": true,
   "sideBar": true,
   "skip_h1_title": false,
   "title_cell": "Table of Contents",
   "title_sidebar": "Contents",
   "toc_cell": false,
   "toc_position": {},
   "toc_section_display": true,
   "toc_window_display": false
  }
 },
 "nbformat": 4,
 "nbformat_minor": 5
}
