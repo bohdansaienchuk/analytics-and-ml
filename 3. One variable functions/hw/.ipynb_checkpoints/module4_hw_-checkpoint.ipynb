{
 "cells": [
  {
   "cell_type": "markdown",
   "metadata": {
    "colab_type": "text",
    "id": "Zi98nJms5aJV"
   },
   "source": [
    "## Домашнее задание. Функции одной переменной, их свойства и графики.\n",
    "\n",
    "\n",
    "Домашнее задание к модулю состоит из двух частей. В первой части вы найдете пять графиков и 5 функций. Укажите, какой функции какой график соответствует.\n",
    "\tВо второй части дан набор функций. Исследуйте их на четность/нечетность, найдите их нули и промежутки знакопостоянства. Также, с помощью графиков, определите промежутки возрастания/убывания этих функций. Это легко сделать для линейной и показательной функций, для корня и логарифма немного сложнее, а для решения задачи с параболой нужно будет немного подумать. Если у вас нет желания поломать голову, находить промежутки возрастания/убывания параболы необязательно. Для тех, кто решит этим заняться, есть подсказка в текстовом описании под видео. <br><br>\n",
    "\tНа проверку пришлите ноутбук с выполненным исследованием. <br>\n"
   ]
  },
  {
   "cell_type": "markdown",
   "metadata": {
    "colab_type": "text",
    "id": "y1r4l2xB6Y_u"
   },
   "source": [
    "### Задание 1. \n",
    "\n",
    "а. $4x+5$ <br>\n",
    "б. $4x^2+4x+10$ <br>\n",
    "в. $100log(x)$ <br>\n",
    "г. $200\\sqrt x$ <br>\n",
    "д. $100e^{0.2x}$ <br>\n",
    "\n",
    "1. ![pic1.png](https://sun9-25.userapi.com/c858228/v858228580/11d685/oGV4QRM4g-I.jpg)\n",
    "2. ![pic2.png](https://sun9-13.userapi.com/c858228/v858228580/11d68c/aX9VkpWVosY.jpg)\n",
    "3. ![pic3.png](https://sun9-24.userapi.com/c858228/v858228580/11d693/Gzu0kXLECfg.jpg)\n",
    "4. ![pic4.png](https://sun9-45.userapi.com/c858228/v858228580/11d69a/sK-lypj-1Ik.jpg)\n",
    "5. ![pic5.png](https://sun9-3.userapi.com/c858228/v858228580/11d6a1/JpoMah5Jv0s.jpg)\n",
    "\n",
    "**Ответ:**"
   ]
  },
  {
   "cell_type": "code",
   "execution_count": 15,
   "metadata": {},
   "outputs": [],
   "source": [
    "# 1 - в, 2 - д, 3 - б, 4 - г, 5 - a"
   ]
  },
  {
   "cell_type": "markdown",
   "metadata": {
    "colab_type": "text",
    "id": "C-tgkRuE0XXX"
   },
   "source": [
    "### Задание 2. Проведите исследование полученных функций. \n",
    "\n",
    "1. $5x + 1.5$\n",
    "2. $2e^{0.2x}-1$\n",
    "3. $3\\sqrt x - 15$\n",
    "4. $2\\log(x) + 5$\n",
    "5. $-5x^2 - 10x + 100$\n",
    "\n",
    "\n"
   ]
  },
  {
   "cell_type": "code",
   "execution_count": 29,
   "metadata": {
    "colab": {},
    "colab_type": "code",
    "id": "0uvTmySu9IeC"
   },
   "outputs": [],
   "source": [
    "from sympy import *\n",
    "from sympy.solvers.inequalities import solve_univariate_inequality\n",
    "from sympy.plotting import plot\n",
    "import math\n",
    "\n",
    "init_printing(use_unicode=False, wrap_line=False, no_global=True)"
   ]
  },
  {
   "cell_type": "markdown",
   "metadata": {},
   "source": [
    "$5x + 1.5$"
   ]
  },
  {
   "cell_type": "code",
   "execution_count": 50,
   "metadata": {},
   "outputs": [],
   "source": [
    "x = Symbol('x')                           # create symbol x"
   ]
  },
  {
   "cell_type": "code",
   "execution_count": 53,
   "metadata": {},
   "outputs": [
    {
     "data": {
      "image/png": "[encoded data removed]",
      "text/latex": [
       "$\\displaystyle 5 x + 1.5$"
      ],
      "text/plain": [
       "5*x + 1.5"
      ]
     },
     "execution_count": 53,
     "metadata": {},
     "output_type": "execute_result"
    }
   ],
   "source": [
    "f = 5*x + 1.5                             # create function\n",
    "f"
   ]
  },
  {
   "cell_type": "code",
   "execution_count": 55,
   "metadata": {},
   "outputs": [
    {
     "data": {
      "image/png": "[encoded data removed]",
      "text/latex": [
       "$\\displaystyle \\left( 6.5, \\  -3.5\\right)$"
      ],
      "text/plain": [
       "(6.5, -3.5)"
      ]
     },
     "execution_count": 55,
     "metadata": {},
     "output_type": "execute_result"
    }
   ],
   "source": [
    "# check for parity and symmetry\n",
    "f.subs(x, 1), f.subs(x, -1)"
   ]
  },
  {
   "cell_type": "code",
   "execution_count": 54,
   "metadata": {},
   "outputs": [
    {
     "data": {
      "image/png": "[encoded data removed]",
      "text/latex": [
       "$\\displaystyle \\left[ -0.3\\right]$"
      ],
      "text/plain": [
       "[-0.3]"
      ]
     },
     "execution_count": 54,
     "metadata": {},
     "output_type": "execute_result"
    }
   ],
   "source": [
    "# add zero points\n",
    "solve(f, x)"
   ]
  },
  {
   "cell_type": "code",
   "execution_count": 79,
   "metadata": {},
   "outputs": [
    {
     "name": "stdout",
     "output_type": "stream",
     "text": [
      "(-0.3 < x) & (x < oo)\n",
      "(-oo < x) & (x < -0.3)\n"
     ]
    }
   ],
   "source": [
    "# calculate constancy intervals\n",
    "print(f\"{solve_univariate_inequality(f>0, x)}\\n\"\n",
    "      f\"{solve_univariate_inequality(f<0, x)}\")"
   ]
  },
  {
   "cell_type": "code",
   "execution_count": 57,
   "metadata": {},
   "outputs": [
    {
     "data": {
      "image/png": "[encoded data removed]",
      "text/plain": [
       "<Figure size 432x288 with 1 Axes>"
      ]
     },
     "metadata": {
      "needs_background": "light"
     },
     "output_type": "display_data"
    },
    {
     "data": {
      "text/plain": [
       "<sympy.plotting.plot.Plot at 0x16577a87f70>"
      ]
     },
     "execution_count": 57,
     "metadata": {},
     "output_type": "execute_result"
    }
   ],
   "source": [
    "# draw function plot\n",
    "plot(f)"
   ]
  },
  {
   "cell_type": "markdown",
   "metadata": {},
   "source": [
    "#### my conclusion:\n",
    "* нечетная, так как зависимые значения противоположные \n",
    "* несимметричная относительно оси Х\n",
    "* возрастает от $-\\infty$ до $+\\infty$\n",
    "* все отрицательные значения до пересечения оси $x$ в отметке -0.3, потом все значения положительные"
   ]
  },
  {
   "cell_type": "markdown",
   "metadata": {},
   "source": [
    "$2e^{0.2x}-1$"
   ]
  },
  {
   "cell_type": "code",
   "execution_count": 59,
   "metadata": {},
   "outputs": [
    {
     "data": {
      "image/png": "[encoded data removed]",
      "text/latex": [
       "$\\displaystyle 2 \\cdot 2.71828182845905^{0.2 x} - 1$"
      ],
      "text/plain": [
       "                  0.2*x    \n",
       "2*2.71828182845905      - 1"
      ]
     },
     "execution_count": 59,
     "metadata": {},
     "output_type": "execute_result"
    }
   ],
   "source": [
    "f2 = 2*e**(0.2*x) - 1                 # create function\n",
    "f2"
   ]
  },
  {
   "cell_type": "code",
   "execution_count": 61,
   "metadata": {},
   "outputs": [
    {
     "data": {
      "image/png": "[encoded data removed]",
      "text/latex": [
       "$\\displaystyle \\left( 1.44280551632034, \\  0.637461506155964\\right)$"
      ],
      "text/plain": [
       "(1.44280551632034, 0.637461506155964)"
      ]
     },
     "execution_count": 61,
     "metadata": {},
     "output_type": "execute_result"
    }
   ],
   "source": [
    "# check for parity and symmetry\n",
    "f2.subs(x, 1), f2.subs(x, -1)"
   ]
  },
  {
   "cell_type": "code",
   "execution_count": 62,
   "metadata": {},
   "outputs": [
    {
     "data": {
      "image/png": "[encoded data removed]",
      "text/latex": [
       "$\\displaystyle \\left[ \\right]$"
      ],
      "text/plain": [
       "[]"
      ]
     },
     "execution_count": 62,
     "metadata": {},
     "output_type": "execute_result"
    }
   ],
   "source": [
    "# add zero points\n",
    "solve(f2, x)"
   ]
  },
  {
   "cell_type": "code",
   "execution_count": 77,
   "metadata": {},
   "outputs": [
    {
     "name": "stdout",
     "output_type": "stream",
     "text": [
      "(x < oo) & (-5.0*log(2) < x)\n",
      "(-oo < x) & (x < -5.0*log(2))\n"
     ]
    }
   ],
   "source": [
    "# calculate constancy intervals\n",
    "print(f\"{solve_univariate_inequality(f2>0, x)}\\n\"\n",
    "      f\"{solve_univariate_inequality(f2<0, x)}\")"
   ]
  },
  {
   "cell_type": "code",
   "execution_count": 64,
   "metadata": {
    "scrolled": false
   },
   "outputs": [
    {
     "data": {
      "image/png": "[encoded data removed]",
      "text/plain": [
       "<Figure size 432x288 with 1 Axes>"
      ]
     },
     "metadata": {
      "needs_background": "light"
     },
     "output_type": "display_data"
    },
    {
     "data": {
      "text/plain": [
       "<sympy.plotting.plot.Plot at 0x16577a41370>"
      ]
     },
     "execution_count": 64,
     "metadata": {},
     "output_type": "execute_result"
    }
   ],
   "source": [
    "# draw graph\n",
    "plot(f2)"
   ]
  },
  {
   "cell_type": "markdown",
   "metadata": {},
   "source": [
    "#### my conclusion:\n",
    "* нечетная\n",
    "* несимметричная относительно оси Х\n",
    "* возрастает от $-\\infty$ до $+\\infty$\n",
    "* все отрицательные значения до пересечения оси $x$ в отметке -5.0*log(2), потом все значения положительные"
   ]
  },
  {
   "cell_type": "markdown",
   "metadata": {},
   "source": [
    "$3\\sqrt x - 15$"
   ]
  },
  {
   "cell_type": "code",
   "execution_count": 68,
   "metadata": {},
   "outputs": [
    {
     "data": {
      "image/png": "[encoded data removed]",
      "text/latex": [
       "$\\displaystyle 3 \\sqrt{x} - 15$"
      ],
      "text/plain": [
       "    ___     \n",
       "3*\\/ x  - 15"
      ]
     },
     "execution_count": 68,
     "metadata": {},
     "output_type": "execute_result"
    }
   ],
   "source": [
    "# create function\n",
    "f3 = 3 * sqrt(x) - 15\n",
    "f3"
   ]
  },
  {
   "cell_type": "code",
   "execution_count": 75,
   "metadata": {},
   "outputs": [
    {
     "name": "stdout",
     "output_type": "stream",
     "text": [
      "(25 < x) & (x < oo)\n",
      "(0 <= x) & (x < 25)\n"
     ]
    }
   ],
   "source": [
    "# check constancy interval\n",
    "print(f\"{solve_univariate_inequality(f3>0, x)}\\n\"\n",
    "      f\"{solve_univariate_inequality(f3<0, x)}\")"
   ]
  },
  {
   "cell_type": "code",
   "execution_count": 72,
   "metadata": {},
   "outputs": [
    {
     "data": {
      "image/png": "[encoded data removed]",
      "text/plain": [
       "<Figure size 432x288 with 1 Axes>"
      ]
     },
     "metadata": {
      "needs_background": "light"
     },
     "output_type": "display_data"
    },
    {
     "data": {
      "text/plain": [
       "<sympy.plotting.plot.Plot at 0x1656da43ee0>"
      ]
     },
     "execution_count": 72,
     "metadata": {},
     "output_type": "execute_result"
    }
   ],
   "source": [
    "# draw plot\n",
    "plot(f3)"
   ]
  },
  {
   "cell_type": "markdown",
   "metadata": {},
   "source": [
    "#### my conclusion:\n",
    "* нечетная\n",
    "* несимметричная относительно оси Х\n",
    "* возрастает от $0$ до $+\\infty$\n",
    "* все отрицательные значения до пересечения оси $x$ в отметке 25, потом все значения положительные"
   ]
  },
  {
   "cell_type": "markdown",
   "metadata": {},
   "source": [
    "$2\\log(x) + 5$"
   ]
  },
  {
   "cell_type": "code",
   "execution_count": 80,
   "metadata": {},
   "outputs": [
    {
     "data": {
      "image/png": "[encoded data removed]",
      "text/latex": [
       "$\\displaystyle 2 \\log{\\left(x \\right)} + 5$"
      ],
      "text/plain": [
       "2*log(x) + 5"
      ]
     },
     "execution_count": 80,
     "metadata": {},
     "output_type": "execute_result"
    }
   ],
   "source": [
    "# create function\n",
    "f4 = 2 * log(x) + 5\n",
    "f4"
   ]
  },
  {
   "cell_type": "code",
   "execution_count": 81,
   "metadata": {},
   "outputs": [
    {
     "data": {
      "image/png": "[encoded data removed]",
      "text/latex": [
       "$\\displaystyle \\left( 5, \\  5 + 2 i \\pi\\right)$"
      ],
      "text/plain": [
       "(5, 5 + 2*I*pi)"
      ]
     },
     "execution_count": 81,
     "metadata": {},
     "output_type": "execute_result"
    }
   ],
   "source": [
    "# check parity and symmetry\n",
    "f4.subs(x, 1), f4.subs(x, -1)"
   ]
  },
  {
   "cell_type": "code",
   "execution_count": 82,
   "metadata": {},
   "outputs": [
    {
     "data": {
      "image/png": "[encoded data removed]",
      "text/latex": [
       "$\\displaystyle \\left[ e^{- \\frac{5}{2}}\\right]$"
      ],
      "text/plain": [
       "  -5/2 \n",
       "[e    ]"
      ]
     },
     "execution_count": 82,
     "metadata": {},
     "output_type": "execute_result"
    }
   ],
   "source": [
    "# add zero points\n",
    "solve(f4, x)"
   ]
  },
  {
   "cell_type": "code",
   "execution_count": 83,
   "metadata": {},
   "outputs": [
    {
     "name": "stdout",
     "output_type": "stream",
     "text": [
      "(x < oo) & (exp(-5/2) < x)\n",
      "(0 < x) & (x < exp(-5/2))\n"
     ]
    }
   ],
   "source": [
    "# check constancy interval\n",
    "print(f\"{solve_univariate_inequality(f4>0, x)}\\n\"\n",
    "      f\"{solve_univariate_inequality(f4<0, x)}\")"
   ]
  },
  {
   "cell_type": "code",
   "execution_count": 84,
   "metadata": {
    "scrolled": true
   },
   "outputs": [
    {
     "data": {
      "image/png": "[encoded data removed]",
      "text/plain": [
       "<Figure size 432x288 with 1 Axes>"
      ]
     },
     "metadata": {
      "needs_background": "light"
     },
     "output_type": "display_data"
    },
    {
     "data": {
      "text/plain": [
       "<sympy.plotting.plot.Plot at 0x1656e234cd0>"
      ]
     },
     "execution_count": 84,
     "metadata": {},
     "output_type": "execute_result"
    }
   ],
   "source": [
    "# draw plot\n",
    "plot(f4)"
   ]
  },
  {
   "cell_type": "markdown",
   "metadata": {},
   "source": [
    "#### my conclusion:\n",
    "* нечетная\n",
    "* несимметричная относительно оси Х\n",
    "* возрастает от $0$ до $+\\infty$\n",
    "* все отрицательные значения до пересечения оси $x$ в отметке $e^\\frac{-5}{2}$, потом все значения положительные"
   ]
  },
  {
   "cell_type": "markdown",
   "metadata": {},
   "source": [
    "$-5x^2 - 10x + 100$"
   ]
  },
  {
   "cell_type": "code",
   "execution_count": 85,
   "metadata": {},
   "outputs": [],
   "source": [
    "f5 = -5*x**2 -10*x + 100"
   ]
  },
  {
   "cell_type": "code",
   "execution_count": 86,
   "metadata": {},
   "outputs": [
    {
     "data": {
      "image/png": "[encoded data removed]",
      "text/plain": [
       "<Figure size 432x288 with 1 Axes>"
      ]
     },
     "metadata": {
      "needs_background": "light"
     },
     "output_type": "display_data"
    },
    {
     "data": {
      "text/plain": [
       "<sympy.plotting.plot.Plot at 0x1656ddbfe20>"
      ]
     },
     "execution_count": 86,
     "metadata": {},
     "output_type": "execute_result"
    }
   ],
   "source": [
    "plot(f5)"
   ]
  },
  {
   "cell_type": "code",
   "execution_count": 88,
   "metadata": {},
   "outputs": [
    {
     "data": {
      "image/png": "[encoded data removed]",
      "text/latex": [
       "$\\displaystyle \\left( 85, \\  105\\right)$"
      ],
      "text/plain": [
       "(85, 105)"
      ]
     },
     "execution_count": 88,
     "metadata": {},
     "output_type": "execute_result"
    }
   ],
   "source": [
    "f5.subs(x, 1), f5.subs(x, -1)"
   ]
  },
  {
   "cell_type": "code",
   "execution_count": 44,
   "metadata": {},
   "outputs": [
    {
     "data": {
      "image/png": "[encoded data removed]",
      "text/latex": [
       "$\\displaystyle \\left[ -1 + \\sqrt{21}, \\  - \\sqrt{21} - 1\\right]$"
      ],
      "text/plain": [
       "        ____      ____     \n",
       "[-1 + \\/ 21 , - \\/ 21  - 1]"
      ]
     },
     "execution_count": 44,
     "metadata": {},
     "output_type": "execute_result"
    }
   ],
   "source": [
    "solve(f, x)"
   ]
  },
  {
   "cell_type": "code",
   "execution_count": 45,
   "metadata": {},
   "outputs": [
    {
     "data": {
      "image/png": "[encoded data removed]",
      "text/latex": [
       "$\\displaystyle x < -1 + \\sqrt{21} \\wedge - \\sqrt{21} - 1 < x$"
      ],
      "text/plain": [
       "   /           ____      ____        \\\n",
       "And\\x < -1 + \\/ 21 , - \\/ 21  - 1 < x/"
      ]
     },
     "execution_count": 45,
     "metadata": {},
     "output_type": "execute_result"
    }
   ],
   "source": [
    "solve_univariate_inequality(f>0, x)"
   ]
  },
  {
   "cell_type": "code",
   "execution_count": 46,
   "metadata": {},
   "outputs": [
    {
     "data": {
      "image/png": "[encoded data removed]",
      "text/latex": [
       "$\\displaystyle \\left(-\\infty < x \\wedge x < - \\sqrt{21} - 1\\right) \\vee \\left(x < \\infty \\wedge -1 + \\sqrt{21} < x\\right)$"
      ],
      "text/plain": [
       "  /   /                 ____    \\     /               ____    \\\\\n",
       "Or\\And\\-oo < x, x < - \\/ 21  - 1/, And\\x < oo, -1 + \\/ 21  < x//"
      ]
     },
     "execution_count": 46,
     "metadata": {},
     "output_type": "execute_result"
    }
   ],
   "source": [
    "solve_univariate_inequality(f<0, x)"
   ]
  },
  {
   "cell_type": "code",
   "execution_count": 48,
   "metadata": {},
   "outputs": [
    {
     "data": {
      "image/png": "[encoded data removed]",
      "text/latex": [
       "$\\displaystyle -1$"
      ],
      "text/plain": [
       "-1"
      ]
     },
     "execution_count": 48,
     "metadata": {},
     "output_type": "execute_result"
    }
   ],
   "source": [
    "apex = (-sqrt(21) - 1 + sqrt(21) - 1) / 2\n",
    "apex"
   ]
  },
  {
   "cell_type": "markdown",
   "metadata": {},
   "source": [
    "#### my conclusion\n",
    "* четная\n",
    "* несимметричная\n",
    "* возрастает от $-\\infty$ до -1\n",
    "* отрицательные значения от $-\\infty$ до -$\\sqrt{21}-1$ и $-1+\\sqrt{21}$ до $\\infty$"
   ]
  }
 ],
 "metadata": {
  "colab": {
   "collapsed_sections": [],
   "name": "module4_hw.ipynb",
   "provenance": []
  },
  "kernelspec": {
   "display_name": "Python 3 (ipykernel)",
   "language": "python",
   "name": "python3"
  },
  "language_info": {
   "codemirror_mode": {
    "name": "ipython",
    "version": 3
   },
   "file_extension": ".py",
   "mimetype": "text/x-python",
   "name": "python",
   "nbconvert_exporter": "python",
   "pygments_lexer": "ipython3",
   "version": "3.9.7"
  },
  "toc": {
   "base_numbering": 1,
   "nav_menu": {},
   "number_sections": true,
   "sideBar": true,
   "skip_h1_title": false,
   "title_cell": "Table of Contents",
   "title_sidebar": "Contents",
   "toc_cell": false,
   "toc_position": {},
   "toc_section_display": true,
   "toc_window_display": false
  }
 },
 "nbformat": 4,
 "nbformat_minor": 1
}
