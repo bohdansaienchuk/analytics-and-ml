{
  "nbformat": 4,
  "nbformat_minor": 0,
  "metadata": {
    "colab": {
      "name": "Свойства коэффициентов квадратичной функции. Решение практики.ipynb",
      "provenance": [],
      "collapsed_sections": []
    },
    "kernelspec": {
      "display_name": "Python 3",
      "language": "python",
      "name": "python3"
    },
    "language_info": {
      "codemirror_mode": {
        "name": "ipython",
        "version": 3
      },
      "file_extension": ".py",
      "mimetype": "text/x-python",
      "name": "python",
      "nbconvert_exporter": "python",
      "pygments_lexer": "ipython3",
      "version": "3.6.3"
    },
    "widgets": {
      "application/vnd.jupyter.widget-state+json": {
        "235d19cd1776481c986a910fe5886311": {
          "model_module": "@jupyter-widgets/controls",
          "model_name": "VBoxModel",
          "model_module_version": "1.5.0",
          "state": {
            "_view_name": "VBoxView",
            "_dom_classes": [
              "widget-interact"
            ],
            "_model_name": "VBoxModel",
            "_view_module": "@jupyter-widgets/controls",
            "_model_module_version": "1.5.0",
            "_view_count": null,
            "_view_module_version": "1.5.0",
            "box_style": "",
            "layout": "IPY_MODEL_fd1661207a6f41a9be96bcbdc4dc43d7",
            "_model_module": "@jupyter-widgets/controls",
            "children": [
              "IPY_MODEL_9cf8f651e1e44c429019602c84193b50",
              "IPY_MODEL_2a2ebb840e2642faa44502eba2085097",
              "IPY_MODEL_3c1ab8b59386408691e2eae0d243aaa4",
              "IPY_MODEL_dd7892ae6033421da869f4f42fc4f024"
            ]
          }
        },
        "fd1661207a6f41a9be96bcbdc4dc43d7": {
          "model_module": "@jupyter-widgets/base",
          "model_name": "LayoutModel",
          "model_module_version": "1.2.0",
          "state": {
            "_view_name": "LayoutView",
            "grid_template_rows": null,
            "right": null,
            "justify_content": null,
            "_view_module": "@jupyter-widgets/base",
            "overflow": null,
            "_model_module_version": "1.2.0",
            "_view_count": null,
            "flex_flow": null,
            "width": null,
            "min_width": null,
            "border": null,
            "align_items": null,
            "bottom": null,
            "_model_module": "@jupyter-widgets/base",
            "top": null,
            "grid_column": null,
            "overflow_y": null,
            "overflow_x": null,
            "grid_auto_flow": null,
            "grid_area": null,
            "grid_template_columns": null,
            "flex": null,
            "_model_name": "LayoutModel",
            "justify_items": null,
            "grid_row": null,
            "max_height": null,
            "align_content": null,
            "visibility": null,
            "align_self": null,
            "height": null,
            "min_height": null,
            "padding": null,
            "grid_auto_rows": null,
            "grid_gap": null,
            "max_width": null,
            "order": null,
            "_view_module_version": "1.2.0",
            "grid_template_areas": null,
            "object_position": null,
            "object_fit": null,
            "grid_auto_columns": null,
            "margin": null,
            "display": null,
            "left": null
          }
        },
        "9cf8f651e1e44c429019602c84193b50": {
          "model_module": "@jupyter-widgets/controls",
          "model_name": "IntSliderModel",
          "model_module_version": "1.5.0",
          "state": {
            "_view_name": "IntSliderView",
            "style": "IPY_MODEL_795931397eb94246ba242b1e55b193c3",
            "_dom_classes": [],
            "description": "a",
            "step": 1,
            "_model_name": "IntSliderModel",
            "orientation": "horizontal",
            "max": 5,
            "_view_module": "@jupyter-widgets/controls",
            "_model_module_version": "1.5.0",
            "value": 4,
            "_view_count": null,
            "disabled": false,
            "_view_module_version": "1.5.0",
            "min": -5,
            "continuous_update": true,
            "readout_format": "d",
            "description_tooltip": null,
            "readout": true,
            "_model_module": "@jupyter-widgets/controls",
            "layout": "IPY_MODEL_8f30c49dc8384befac258ac04b0a17d1"
          }
        },
        "2a2ebb840e2642faa44502eba2085097": {
          "model_module": "@jupyter-widgets/controls",
          "model_name": "IntSliderModel",
          "model_module_version": "1.5.0",
          "state": {
            "_view_name": "IntSliderView",
            "style": "IPY_MODEL_49805fbdb44d4c86b97517daf1389f01",
            "_dom_classes": [],
            "description": "b",
            "step": 1,
            "_model_name": "IntSliderModel",
            "orientation": "horizontal",
            "max": 100,
            "_view_module": "@jupyter-widgets/controls",
            "_model_module_version": "1.5.0",
            "value": 8,
            "_view_count": null,
            "disabled": false,
            "_view_module_version": "1.5.0",
            "min": -100,
            "continuous_update": true,
            "readout_format": "d",
            "description_tooltip": null,
            "readout": true,
            "_model_module": "@jupyter-widgets/controls",
            "layout": "IPY_MODEL_ef9754abef3549e88f2f744df149bc1d"
          }
        },
        "3c1ab8b59386408691e2eae0d243aaa4": {
          "model_module": "@jupyter-widgets/controls",
          "model_name": "IntSliderModel",
          "model_module_version": "1.5.0",
          "state": {
            "_view_name": "IntSliderView",
            "style": "IPY_MODEL_03ef5ab493074053ab1ad52316827adb",
            "_dom_classes": [],
            "description": "c",
            "step": 1,
            "_model_name": "IntSliderModel",
            "orientation": "horizontal",
            "max": 20,
            "_view_module": "@jupyter-widgets/controls",
            "_model_module_version": "1.5.0",
            "value": 10,
            "_view_count": null,
            "disabled": false,
            "_view_module_version": "1.5.0",
            "min": -20,
            "continuous_update": true,
            "readout_format": "d",
            "description_tooltip": null,
            "readout": true,
            "_model_module": "@jupyter-widgets/controls",
            "layout": "IPY_MODEL_bd95617c95264149b01b6dfd004c8289"
          }
        },
        "dd7892ae6033421da869f4f42fc4f024": {
          "model_module": "@jupyter-widgets/output",
          "model_name": "OutputModel",
          "model_module_version": "1.0.0",
          "state": {
            "_view_name": "OutputView",
            "msg_id": "",
            "_dom_classes": [],
            "_model_name": "OutputModel",
            "outputs": [
              {
                "output_type": "stream",
                "name": "stdout",
                "text": [
                  "Ура! Получилось!\n"
                ]
              },
              {
                "output_type": "display_data",
                "data": {
                  "image/png": "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\n",
                  "text/plain": "<Figure size 432x288 with 1 Axes>"
                },
                "metadata": {
                  "needs_background": "light"
                }
              }
            ],
            "_view_module": "@jupyter-widgets/output",
            "_model_module_version": "1.0.0",
            "_view_count": null,
            "_view_module_version": "1.0.0",
            "layout": "IPY_MODEL_c8bcdb326e93466ba3e519cdb0370227",
            "_model_module": "@jupyter-widgets/output"
          }
        },
        "795931397eb94246ba242b1e55b193c3": {
          "model_module": "@jupyter-widgets/controls",
          "model_name": "SliderStyleModel",
          "model_module_version": "1.5.0",
          "state": {
            "_view_name": "StyleView",
            "handle_color": null,
            "_model_name": "SliderStyleModel",
            "description_width": "",
            "_view_module": "@jupyter-widgets/base",
            "_model_module_version": "1.5.0",
            "_view_count": null,
            "_view_module_version": "1.2.0",
            "_model_module": "@jupyter-widgets/controls"
          }
        },
        "8f30c49dc8384befac258ac04b0a17d1": {
          "model_module": "@jupyter-widgets/base",
          "model_name": "LayoutModel",
          "model_module_version": "1.2.0",
          "state": {
            "_view_name": "LayoutView",
            "grid_template_rows": null,
            "right": null,
            "justify_content": null,
            "_view_module": "@jupyter-widgets/base",
            "overflow": null,
            "_model_module_version": "1.2.0",
            "_view_count": null,
            "flex_flow": null,
            "width": null,
            "min_width": null,
            "border": null,
            "align_items": null,
            "bottom": null,
            "_model_module": "@jupyter-widgets/base",
            "top": null,
            "grid_column": null,
            "overflow_y": null,
            "overflow_x": null,
            "grid_auto_flow": null,
            "grid_area": null,
            "grid_template_columns": null,
            "flex": null,
            "_model_name": "LayoutModel",
            "justify_items": null,
            "grid_row": null,
            "max_height": null,
            "align_content": null,
            "visibility": null,
            "align_self": null,
            "height": null,
            "min_height": null,
            "padding": null,
            "grid_auto_rows": null,
            "grid_gap": null,
            "max_width": null,
            "order": null,
            "_view_module_version": "1.2.0",
            "grid_template_areas": null,
            "object_position": null,
            "object_fit": null,
            "grid_auto_columns": null,
            "margin": null,
            "display": null,
            "left": null
          }
        },
        "49805fbdb44d4c86b97517daf1389f01": {
          "model_module": "@jupyter-widgets/controls",
          "model_name": "SliderStyleModel",
          "model_module_version": "1.5.0",
          "state": {
            "_view_name": "StyleView",
            "handle_color": null,
            "_model_name": "SliderStyleModel",
            "description_width": "",
            "_view_module": "@jupyter-widgets/base",
            "_model_module_version": "1.5.0",
            "_view_count": null,
            "_view_module_version": "1.2.0",
            "_model_module": "@jupyter-widgets/controls"
          }
        },
        "ef9754abef3549e88f2f744df149bc1d": {
          "model_module": "@jupyter-widgets/base",
          "model_name": "LayoutModel",
          "model_module_version": "1.2.0",
          "state": {
            "_view_name": "LayoutView",
            "grid_template_rows": null,
            "right": null,
            "justify_content": null,
            "_view_module": "@jupyter-widgets/base",
            "overflow": null,
            "_model_module_version": "1.2.0",
            "_view_count": null,
            "flex_flow": null,
            "width": null,
            "min_width": null,
            "border": null,
            "align_items": null,
            "bottom": null,
            "_model_module": "@jupyter-widgets/base",
            "top": null,
            "grid_column": null,
            "overflow_y": null,
            "overflow_x": null,
            "grid_auto_flow": null,
            "grid_area": null,
            "grid_template_columns": null,
            "flex": null,
            "_model_name": "LayoutModel",
            "justify_items": null,
            "grid_row": null,
            "max_height": null,
            "align_content": null,
            "visibility": null,
            "align_self": null,
            "height": null,
            "min_height": null,
            "padding": null,
            "grid_auto_rows": null,
            "grid_gap": null,
            "max_width": null,
            "order": null,
            "_view_module_version": "1.2.0",
            "grid_template_areas": null,
            "object_position": null,
            "object_fit": null,
            "grid_auto_columns": null,
            "margin": null,
            "display": null,
            "left": null
          }
        },
        "03ef5ab493074053ab1ad52316827adb": {
          "model_module": "@jupyter-widgets/controls",
          "model_name": "SliderStyleModel",
          "model_module_version": "1.5.0",
          "state": {
            "_view_name": "StyleView",
            "handle_color": null,
            "_model_name": "SliderStyleModel",
            "description_width": "",
            "_view_module": "@jupyter-widgets/base",
            "_model_module_version": "1.5.0",
            "_view_count": null,
            "_view_module_version": "1.2.0",
            "_model_module": "@jupyter-widgets/controls"
          }
        },
        "bd95617c95264149b01b6dfd004c8289": {
          "model_module": "@jupyter-widgets/base",
          "model_name": "LayoutModel",
          "model_module_version": "1.2.0",
          "state": {
            "_view_name": "LayoutView",
            "grid_template_rows": null,
            "right": null,
            "justify_content": null,
            "_view_module": "@jupyter-widgets/base",
            "overflow": null,
            "_model_module_version": "1.2.0",
            "_view_count": null,
            "flex_flow": null,
            "width": null,
            "min_width": null,
            "border": null,
            "align_items": null,
            "bottom": null,
            "_model_module": "@jupyter-widgets/base",
            "top": null,
            "grid_column": null,
            "overflow_y": null,
            "overflow_x": null,
            "grid_auto_flow": null,
            "grid_area": null,
            "grid_template_columns": null,
            "flex": null,
            "_model_name": "LayoutModel",
            "justify_items": null,
            "grid_row": null,
            "max_height": null,
            "align_content": null,
            "visibility": null,
            "align_self": null,
            "height": null,
            "min_height": null,
            "padding": null,
            "grid_auto_rows": null,
            "grid_gap": null,
            "max_width": null,
            "order": null,
            "_view_module_version": "1.2.0",
            "grid_template_areas": null,
            "object_position": null,
            "object_fit": null,
            "grid_auto_columns": null,
            "margin": null,
            "display": null,
            "left": null
          }
        },
        "c8bcdb326e93466ba3e519cdb0370227": {
          "model_module": "@jupyter-widgets/base",
          "model_name": "LayoutModel",
          "model_module_version": "1.2.0",
          "state": {
            "_view_name": "LayoutView",
            "grid_template_rows": null,
            "right": null,
            "justify_content": null,
            "_view_module": "@jupyter-widgets/base",
            "overflow": null,
            "_model_module_version": "1.2.0",
            "_view_count": null,
            "flex_flow": null,
            "width": null,
            "min_width": null,
            "border": null,
            "align_items": null,
            "bottom": null,
            "_model_module": "@jupyter-widgets/base",
            "top": null,
            "grid_column": null,
            "overflow_y": null,
            "overflow_x": null,
            "grid_auto_flow": null,
            "grid_area": null,
            "grid_template_columns": null,
            "flex": null,
            "_model_name": "LayoutModel",
            "justify_items": null,
            "grid_row": null,
            "max_height": null,
            "align_content": null,
            "visibility": null,
            "align_self": null,
            "height": "300px",
            "min_height": null,
            "padding": null,
            "grid_auto_rows": null,
            "grid_gap": null,
            "max_width": null,
            "order": null,
            "_view_module_version": "1.2.0",
            "grid_template_areas": null,
            "object_position": null,
            "object_fit": null,
            "grid_auto_columns": null,
            "margin": null,
            "display": null,
            "left": null
          }
        }
      }
    }
  },
  "cells": [
    {
      "cell_type": "markdown",
      "metadata": {
        "id": "uINUx7ygkhJ7"
      },
      "source": [
        "## Свойства коэффициентов квадратичной функции. Решение практики\n",
        "\n",
        "В качестве практики подберите, варьируя коэффициенты, квадратичную функцию для набора точек. Другими словами, вам нужно решить задачу интерполяции полиномом второй степени. Ниже вы найдете код, который создает ползунки, с помощью которых можно варьировать коэффициенты a, b и c, подбирая нужный вид параболы, а также рисует набор точек. <br><br>\n",
        "Программа будет печатать над графиком актуальный вид функции и сама скажет вам, когда вы достигнете цели. \n"
      ]
    },
    {
      "cell_type": "code",
      "metadata": {
        "id": "6jTnfZNO8EIx"
      },
      "source": [
        "%matplotlib inline\n",
        "from ipywidgets import interactive\n",
        "import matplotlib.pyplot as plt\n",
        "import numpy as np"
      ],
      "execution_count": null,
      "outputs": []
    },
    {
      "cell_type": "code",
      "metadata": {
        "id": "vR8eUwC88EJC"
      },
      "source": [
        "def get_polyfunc_title(koefs):\n",
        "    s_koefs = ''.join([f'+{koefs[i]}x^{len(koefs)-i-1}' if koefs[i]>0 \n",
        "                       else f'{koefs[i]}x^{len(koefs)-i-1}' if koefs[i]<0 \n",
        "                       else ''\n",
        "                       for i in range(len(koefs))])\n",
        "    expr = s_koefs.replace('x^0', '') \\\n",
        "                  .replace('+', ' + ') \\\n",
        "                  .replace('-', ' - ') \\\n",
        "                  .replace('x^1', 'x') \\\n",
        "                  .replace(' 1x', ' x')\n",
        "\n",
        "    if expr[:3]==' + ':\n",
        "        expr = expr[3:]\n",
        "    if expr:\n",
        "        return '$f(x) = ' + expr + '$'\n",
        "    \n",
        "def check(f, x, y):\n",
        "    check = False not in [f(x[i])==y[i] for i in range(len(x))]\n",
        "    if not check:\n",
        "        print('Пока не получилось')\n",
        "    else:\n",
        "        print('Ура! Получилось!')"
      ],
      "execution_count": null,
      "outputs": []
    },
    {
      "cell_type": "code",
      "metadata": {
        "id": "uDeNNBzH8EJP"
      },
      "source": [
        "def parabola(a, b, c):\n",
        "    plt.figure(3)\n",
        "    plt.axhline(0, color='black')\n",
        "    plt.axvline(0, color='black')\n",
        "\n",
        "    x, y = [x for x, y in points], [y for x, y in points]\n",
        "    plt.scatter(x, y, c='r')\n",
        "\n",
        "\n",
        "    \n",
        "    if a != 0:\n",
        "        f = lambda x: a * x**2 + b * x + c\n",
        "        check(f, x, y)\n",
        "        \n",
        "        x = np.linspace(-15, 15, num=1000)\n",
        "        plt.plot(x, a * x**2 + b * x + c)\n",
        "    \n",
        "    plt.ylim(-35, 35)\n",
        "    plt.xlim(-10, 10)\n",
        "        \n",
        "    plt.title(get_polyfunc_title([a,b,c]))\n",
        "    plt.show()"
      ],
      "execution_count": null,
      "outputs": []
    },
    {
      "cell_type": "code",
      "metadata": {
        "id": "aon-5jaz8EJZ",
        "outputId": "7a1e63d4-2fc4-4627-814c-f12a3b6185fb",
        "colab": {
          "base_uri": "https://localhost:8080/",
          "height": 413,
          "referenced_widgets": [
            "235d19cd1776481c986a910fe5886311",
            "fd1661207a6f41a9be96bcbdc4dc43d7",
            "9cf8f651e1e44c429019602c84193b50",
            "2a2ebb840e2642faa44502eba2085097",
            "3c1ab8b59386408691e2eae0d243aaa4",
            "dd7892ae6033421da869f4f42fc4f024",
            "795931397eb94246ba242b1e55b193c3",
            "8f30c49dc8384befac258ac04b0a17d1",
            "49805fbdb44d4c86b97517daf1389f01",
            "ef9754abef3549e88f2f744df149bc1d",
            "03ef5ab493074053ab1ad52316827adb",
            "bd95617c95264149b01b6dfd004c8289",
            "c8bcdb326e93466ba3e519cdb0370227"
          ]
        }
      },
      "source": [
        "points = [[-2.5, 15.0], \n",
        "          [-2, 10], \n",
        "          [-1.5, 7.0], \n",
        "          [-1, 6], \n",
        "          [-0.5, 7.0], \n",
        "          [0, 10], \n",
        "          [0.5, 15.0], \n",
        "          [1, 22], \n",
        "          [1.5, 31.0]]\n",
        "\n",
        "interactive_plot = interactive(parabola, a=(-5, 5, 1), b=(-100, 100, 1), c=(-20, 20, 1))\n",
        "output = interactive_plot.children[-1]\n",
        "output.layout.height = '300px'\n",
        "interactive_plot"
      ],
      "execution_count": null,
      "outputs": [
        {
          "output_type": "display_data",
          "data": {
            "application/vnd.jupyter.widget-view+json": {
              "model_id": "235d19cd1776481c986a910fe5886311",
              "version_minor": 0,
              "version_major": 2
            },
            "text/plain": [
              "interactive(children=(IntSlider(value=0, description='a', max=5, min=-5), IntSlider(value=0, description='b', …"
            ]
          },
          "metadata": {}
        }
      ]
    },
    {
      "cell_type": "code",
      "source": [
        ""
      ],
      "metadata": {
        "id": "m0m9VXFlS1GJ"
      },
      "execution_count": null,
      "outputs": []
    }
  ]
}