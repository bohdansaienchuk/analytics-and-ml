{
 "cells": [
  {
   "cell_type": "code",
   "execution_count": 1,
   "id": "e959db17",
   "metadata": {},
   "outputs": [],
   "source": [
    "from sympy import *\n",
    "from sympy.solvers.inequalities import solve_univariate_inequality\n",
    "from sympy.plotting import plot\n",
    "\n",
    "init_printing(use_unicode=False, wrap_line=False, no_global=True)"
   ]
  },
  {
   "cell_type": "markdown",
   "id": "8b5685f4",
   "metadata": {},
   "source": [
    "# basic\n",
    "\n",
    "## (2; 12.258), (4; 17.24), (8; 30.151)"
   ]
  },
  {
   "cell_type": "code",
   "execution_count": 2,
   "id": "d6364e12",
   "metadata": {},
   "outputs": [
    {
     "data": {
      "image/png": "[encoded data removed]",
      "text/latex": [
       "$\\displaystyle 3 x + 5$"
      ],
      "text/plain": [
       "3*x + 5"
      ]
     },
     "execution_count": 2,
     "metadata": {},
     "output_type": "execute_result"
    }
   ],
   "source": [
    "# (2; 12.258), (4; 17.24), (8; 30.151)\n",
    "\n",
    "#assing symbol x\n",
    "x = Symbol('x')\n",
    "\n",
    "# create function\n",
    "f = 3*x + 5\n",
    "f"
   ]
  },
  {
   "cell_type": "code",
   "execution_count": 5,
   "id": "39a843eb",
   "metadata": {},
   "outputs": [
    {
     "data": {
      "image/png": "[encoded data removed]",
      "text/latex": [
       "$\\displaystyle 0.994143685121354$"
      ],
      "text/plain": [
       "0.994143685121354"
      ]
     },
     "execution_count": 5,
     "metadata": {},
     "output_type": "execute_result"
    }
   ],
   "source": [
    "MSE = sqrt(((12.258 - (3*2+5))**2 + (17.24 - (3*4 + 5))**2 + (30.151 - (3*8 + 5))**2) / 3)\n",
    "MSE"
   ]
  },
  {
   "cell_type": "code",
   "execution_count": 3,
   "id": "f7eb3a6a",
   "metadata": {
    "scrolled": true
   },
   "outputs": [
    {
     "data": {
      "image/png": "[encoded data removed]",
      "text/plain": [
       "<Figure size 432x288 with 1 Axes>"
      ]
     },
     "metadata": {
      "needs_background": "light"
     },
     "output_type": "display_data"
    },
    {
     "data": {
      "text/plain": [
       "<sympy.plotting.plot.Plot at 0x1bd0c7dd820>"
      ]
     },
     "execution_count": 3,
     "metadata": {},
     "output_type": "execute_result"
    }
   ],
   "source": [
    "# draw graph\n",
    "plot(f)"
   ]
  },
  {
   "cell_type": "markdown",
   "id": "77c02e83",
   "metadata": {},
   "source": [
    "## (2; 3.688), (4; 10.791), (8; 20.705)"
   ]
  },
  {
   "cell_type": "code",
   "execution_count": 6,
   "id": "8263f48b",
   "metadata": {},
   "outputs": [
    {
     "data": {
      "image/png": "[encoded data removed]",
      "text/latex": [
       "$\\displaystyle 0.25 x^{2} + 0.75 x + 1.25$"
      ],
      "text/plain": [
       "      2                \n",
       "0.25*x  + 0.75*x + 1.25"
      ]
     },
     "execution_count": 6,
     "metadata": {},
     "output_type": "execute_result"
    }
   ],
   "source": [
    "0.25*x**2 + 0.75*x + 1.25"
   ]
  },
  {
   "cell_type": "code",
   "execution_count": 26,
   "id": "fef9d18c",
   "metadata": {},
   "outputs": [],
   "source": [
    "MSE = ((3.688 - (0.25*2**2 + 0.75*2 + 1.25))**2 + \n",
    "       (10.791 - (0.25*4**2 + 0.75*4 + 1.25))**2 + \n",
    "       (20.705 - (0.25*8**2 + 0.75*8 + 1.25))**2) / 3"
   ]
  },
  {
   "cell_type": "code",
   "execution_count": 27,
   "id": "58c98086",
   "metadata": {},
   "outputs": [
    {
     "data": {
      "image/png": "[encoded data removed]",
      "text/latex": [
       "$\\displaystyle 4.31251666666667$"
      ],
      "text/plain": [
       "4.31251666666667"
      ]
     },
     "execution_count": 27,
     "metadata": {},
     "output_type": "execute_result"
    }
   ],
   "source": [
    "MSE"
   ]
  },
  {
   "cell_type": "markdown",
   "id": "47f39591",
   "metadata": {},
   "source": [
    "# middle"
   ]
  },
  {
   "cell_type": "code",
   "execution_count": 17,
   "id": "d88c4117",
   "metadata": {},
   "outputs": [
    {
     "data": {
      "image/png": "[encoded data removed]",
      "text/latex": [
       "$\\displaystyle 0.5 x^{3} - 0.25 x^{2} + 0.75 x + 1.25$"
      ],
      "text/plain": [
       "     3         2                \n",
       "0.5*x  - 0.25*x  + 0.75*x + 1.25"
      ]
     },
     "execution_count": 17,
     "metadata": {},
     "output_type": "execute_result"
    }
   ],
   "source": [
    "0.5*x**3 - 0.25*x**2 + 0.75*x + 1.25"
   ]
  },
  {
   "cell_type": "code",
   "execution_count": 25,
   "id": "2ce228f6",
   "metadata": {},
   "outputs": [
    {
     "name": "stdout",
     "output_type": "stream",
     "text": [
      "2 4.872\n",
      "5.75\n",
      "4 29.707\n",
      "32.25\n",
      "8 246.971\n",
      "247.25\n",
      "10 485.727\n",
      "483.75\n",
      "12 840.658\n",
      "838.25\n"
     ]
    },
    {
     "data": {
      "image/png": "[encoded data removed]",
      "text/latex": [
       "$\\displaystyle 3.40451339999999$"
      ],
      "text/plain": [
       "3.404513399999994"
      ]
     },
     "execution_count": 25,
     "metadata": {},
     "output_type": "execute_result"
    }
   ],
   "source": [
    "lst = [(2, 4.872), (4, 29.707), (8, 246.971), (10, 485.727), (12, 840.658)]\n",
    "n = 0\n",
    "suma = 0\n",
    "\n",
    "for i in range(len(lst)):\n",
    "    n += 1\n",
    "    x = lst[i][0]\n",
    "    y = lst[i][1]\n",
    "    print(x, y)\n",
    "    suma += (lst[i][1] - (0.5*x**3 - 0.25*x**2 + 0.75*x + 1.25))**2\n",
    "    print(0.5*x**3 - 0.25*x**2 + 0.75*x + 1.25)\n",
    "\n",
    "MSE = suma/n\n",
    "\n",
    "MSE"
   ]
  }
 ],
 "metadata": {
  "kernelspec": {
   "display_name": "Python 3 (ipykernel)",
   "language": "python",
   "name": "python3"
  },
  "language_info": {
   "codemirror_mode": {
    "name": "ipython",
    "version": 3
   },
   "file_extension": ".py",
   "mimetype": "text/x-python",
   "name": "python",
   "nbconvert_exporter": "python",
   "pygments_lexer": "ipython3",
   "version": "3.9.7"
  },
  "toc": {
   "base_numbering": 1,
   "nav_menu": {},
   "number_sections": true,
   "sideBar": true,
   "skip_h1_title": false,
   "title_cell": "Table of Contents",
   "title_sidebar": "Contents",
   "toc_cell": false,
   "toc_position": {},
   "toc_section_display": true,
   "toc_window_display": false
  }
 },
 "nbformat": 4,
 "nbformat_minor": 5
}
