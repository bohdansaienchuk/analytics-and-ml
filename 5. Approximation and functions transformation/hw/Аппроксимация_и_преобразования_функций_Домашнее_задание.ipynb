{
 "cells": [
  {
   "cell_type": "markdown",
   "metadata": {
    "id": "-zOqnEVGugHU"
   },
   "source": [
    "# Блок 1.\n",
    "\n",
    "С помощью symPy найдите полиномы, описывающие данные наборы точек. Затем проведите полное исследование каждого полученного полинома: проверьте четность/нечетность, найдите нули, промежутки знакопостоянства. Постройте их графики. С помощью изменения промежутка для х добейтесь того, чтобы все нули были отображены на графике функции. <br><br><br>\n",
    "а) $(-4; -4268), (-3; -1227), (-1; -17), (1; 17), (3; 1227), (4; 4268)$<br><br>\n",
    "б)$ (-4; -16729), (-3; -3999), (-1; 5), (1; 1), (3; 4005), (4; 16735)$\n"
   ]
  },
  {
   "cell_type": "code",
   "execution_count": 1,
   "metadata": {
    "id": "mO8e_U97uxvk"
   },
   "outputs": [],
   "source": [
    "from sympy import *\n",
    "from sympy.plotting import plot\n",
    "from sympy.solvers.inequalities import solve_univariate_inequality\n",
    "\n",
    "init_printing(use_unicode=False, wrap_line=False, no_global=True)"
   ]
  },
  {
   "cell_type": "code",
   "execution_count": 2,
   "metadata": {},
   "outputs": [],
   "source": [
    "# assing coefficients and create coefficients lst\n",
    "\n",
    "a0, a1, a2, a3, a4, a5 = symbols('a0, a1, a2, a3, a4, a5')\n",
    "\n",
    "coeff_lst = [a5, a4, a3, a2, a1, a0]"
   ]
  },
  {
   "cell_type": "code",
   "execution_count": 3,
   "metadata": {},
   "outputs": [],
   "source": [
    "# assign symbolos x and y\n",
    "\n",
    "x = Symbol('x')\n",
    "y = Symbol('y')"
   ]
  },
  {
   "cell_type": "markdown",
   "metadata": {},
   "source": [
    "## a) (−4;−4268),(−3;−1227),(−1;−17),(1;17),(3;1227),(4;4268) "
   ]
  },
  {
   "cell_type": "code",
   "execution_count": 4,
   "metadata": {},
   "outputs": [
    {
     "data": {
      "image/png": "[encoded data removed]",
      "text/latex": [
       "$\\displaystyle \\left[ \\left( -4, \\  -4268\\right), \\  \\left( -3, \\  -1227\\right), \\  \\left( -1, \\  -17\\right), \\  \\left( 1, \\  17\\right), \\  \\left( 3, \\  1227\\right), \\  \\left( 4, \\  4268\\right)\\right]$"
      ],
      "text/plain": [
       "[(-4, -4268), (-3, -1227), (-1, -17), (1, 17), (3, 1227), (4, 4268)]"
      ]
     },
     "execution_count": 4,
     "metadata": {},
     "output_type": "execute_result"
    }
   ],
   "source": [
    "# create list of points for use in cycle\n",
    "points_lst = [(-4, -4268), (-3, -1227), (-1, -17), (1, 17), (3, 1227), (4, 4268)]\n",
    "points_lst"
   ]
  },
  {
   "cell_type": "code",
   "execution_count": 5,
   "metadata": {},
   "outputs": [
    {
     "data": {
      "image/png": "[encoded data removed]",
      "text/latex": [
       "$\\displaystyle a_{0} + a_{1} x + a_{2} x^{2} + a_{3} x^{3} + a_{4} x^{4} + a_{5} x^{5} - y$"
      ],
      "text/plain": [
       "                2       3       4       5    \n",
       "a0 + a1*x + a2*x  + a3*x  + a4*x  + a5*x  - y"
      ]
     },
     "execution_count": 5,
     "metadata": {},
     "output_type": "execute_result"
    }
   ],
   "source": [
    "# assing nullification equation\n",
    "\n",
    "(a5*x**5) + (a4*x**4) + (a3*x**3) + (a2*x**2) + (a1*x) + (a0) - (y)"
   ]
  },
  {
   "cell_type": "code",
   "execution_count": 6,
   "metadata": {},
   "outputs": [
    {
     "data": {
      "image/png": "[encoded data removed]",
      "text/latex": [
       "$\\displaystyle \\left[ a_{0} - 4 a_{1} + 16 a_{2} - 64 a_{3} + 256 a_{4} - 1024 a_{5} + 4268, \\  a_{0} - 3 a_{1} + 9 a_{2} - 27 a_{3} + 81 a_{4} - 243 a_{5} + 1227, \\  a_{0} - a_{1} + a_{2} - a_{3} + a_{4} - a_{5} + 17, \\  a_{0} + a_{1} + a_{2} + a_{3} + a_{4} + a_{5} - 17, \\  a_{0} + 3 a_{1} + 9 a_{2} + 27 a_{3} + 81 a_{4} + 243 a_{5} - 1227, \\  a_{0} + 4 a_{1} + 16 a_{2} + 64 a_{3} + 256 a_{4} + 1024 a_{5} - 4268\\right]$"
      ],
      "text/plain": [
       "[a0 - 4*a1 + 16*a2 - 64*a3 + 256*a4 - 1024*a5 + 4268, a0 - 3*a1 + 9*a2 - 27*a3 + 81*a4 - 243*a5 + 1227, a0 - a1 + a2 - a3 + a4 - a5 + 17, a0 + a1 + a2 + a3 + a4 + a5 - 17, a0 + 3*a1 + 9*a2 + 27*a3 + 81*a4 + 243*a5 - 1227, a0 + 4*a1 + 16*a2 + 64*a3 + 256*a4 + 1024*a5 - 4268]"
      ]
     },
     "execution_count": 6,
     "metadata": {},
     "output_type": "execute_result"
    }
   ],
   "source": [
    "# solve nullification equations in cycle and create results lst with equations results\n",
    "\n",
    "results_lst = []\n",
    "\n",
    "for elem in points_lst:\n",
    "    x = elem[0]\n",
    "    y = elem[1]\n",
    "    eq_lp = (a5*x**5) + (a4*x**4) + (a3*x**3) + (a2*x**2) + (a1*x) + (a0) - (y)\n",
    "    results_lst.append(eq_lp)\n",
    "\n",
    "results_lst"
   ]
  },
  {
   "cell_type": "code",
   "execution_count": 7,
   "metadata": {},
   "outputs": [],
   "source": [
    "# use nonlinsolve function\n",
    "\n",
    "coeff_res_lst = list(nonlinsolve(results_lst, coeff_lst))[0]"
   ]
  },
  {
   "cell_type": "code",
   "execution_count": 8,
   "metadata": {},
   "outputs": [
    {
     "data": {
      "image/png": "[encoded data removed]",
      "text/latex": [
       "$\\displaystyle 3 x^{5} + 19 x^{3} - 5 x$"
      ],
      "text/plain": [
       "   5       3      \n",
       "3*x  + 19*x  - 5*x"
      ]
     },
     "execution_count": 8,
     "metadata": {},
     "output_type": "execute_result"
    }
   ],
   "source": [
    "# write function\n",
    "\n",
    "f = 0\n",
    "x = Symbol('x')\n",
    "\n",
    "for num, elem in enumerate(coeff_res_lst[::-1]):\n",
    "    if num == 0:\n",
    "        elem = elem\n",
    "    else:\n",
    "        elem = elem*x**num\n",
    "    f += elem\n",
    "    \n",
    "f"
   ]
  },
  {
   "cell_type": "code",
   "execution_count": 9,
   "metadata": {},
   "outputs": [
    {
     "name": "stdout",
     "output_type": "stream",
     "text": [
      "17, -17\n",
      "30018999500, -30018999500\n"
     ]
    }
   ],
   "source": [
    "# check for parity and symmetry\n",
    "\n",
    "print(f\"{f.subs(x, 1)}, {f.subs(x, -1)}\\n\"\n",
    "      f\"{f.subs(x, 100)}, {f.subs(x, -100)}\"\n",
    "     )"
   ]
  },
  {
   "cell_type": "code",
   "execution_count": 10,
   "metadata": {},
   "outputs": [
    {
     "data": {
      "image/png": "[encoded data removed]",
      "text/latex": [
       "$\\displaystyle \\left[ 0, \\  - i \\sqrt{\\frac{19}{6} + \\frac{\\sqrt{421}}{6}}, \\  i \\sqrt{\\frac{19}{6} + \\frac{\\sqrt{421}}{6}}, \\  - \\sqrt{- \\frac{19}{6} + \\frac{\\sqrt{421}}{6}}, \\  \\sqrt{- \\frac{19}{6} + \\frac{\\sqrt{421}}{6}}\\right]$"
      ],
      "text/plain": [
       "            ______________         ______________        ________________       ________________ \n",
       "           /        _____         /        _____        /          _____       /          _____  \n",
       "          /  19   \\/ 421         /  19   \\/ 421        /    19   \\/ 421       /    19   \\/ 421   \n",
       "[0, -I*  /   -- + ------- , I*  /   -- + ------- , -  /   - -- + ------- ,   /   - -- + ------- ]\n",
       "       \\/    6       6        \\/    6       6       \\/      6       6      \\/      6       6     "
      ]
     },
     "execution_count": 10,
     "metadata": {},
     "output_type": "execute_result"
    }
   ],
   "source": [
    "# find zero\n",
    "\n",
    "solve(f)"
   ]
  },
  {
   "cell_type": "code",
   "execution_count": 11,
   "metadata": {},
   "outputs": [
    {
     "name": "stdout",
     "output_type": "stream",
     "text": [
      "((x < oo) & (sqrt(-19/6 + sqrt(421)/6) < x)) | ((x < 0) & (-sqrt(-19/6 + sqrt(421)/6) < x))\n",
      "((0 < x) & (x < sqrt(-19/6 + sqrt(421)/6))) | ((-oo < x) & (x < -sqrt(-19/6 + sqrt(421)/6)))\n"
     ]
    }
   ],
   "source": [
    "# find constancy intervals\n",
    "\n",
    "print(f\"{solve_univariate_inequality(f>0, x)}\\n\"\n",
    "      f\"{solve_univariate_inequality(f<0, x)}\")"
   ]
  },
  {
   "cell_type": "code",
   "execution_count": 12,
   "metadata": {},
   "outputs": [
    {
     "data": {
      "image/png": "[encoded data removed]",
      "text/plain": [
       "<Figure size 432x288 with 1 Axes>"
      ]
     },
     "metadata": {
      "needs_background": "light"
     },
     "output_type": "display_data"
    },
    {
     "data": {
      "text/plain": [
       "<sympy.plotting.plot.Plot at 0x1fe53ff9760>"
      ]
     },
     "execution_count": 12,
     "metadata": {},
     "output_type": "execute_result"
    }
   ],
   "source": [
    "# draw graph\n",
    "plot(f)"
   ]
  },
  {
   "cell_type": "markdown",
   "metadata": {},
   "source": [
    "### my conclusion:\n",
    "* функция симметричная\n",
    "* нечетная\n",
    "* возрастает на ($-\\infty$ до -sqrt(-19/6 + sqrt(421)/6)) и на (sqrt(-19/6 + sqrt(421)/6) до $+\\infty$)"
   ]
  },
  {
   "cell_type": "markdown",
   "metadata": {},
   "source": [
    "## (-4; -16729), (-3; -3999), (-1; 5), (1; 1), (3; 4005), (4; 16735)"
   ]
  },
  {
   "cell_type": "code",
   "execution_count": 13,
   "metadata": {},
   "outputs": [
    {
     "data": {
      "image/png": "[encoded data removed]",
      "text/latex": [
       "$\\displaystyle \\left[ \\left( -4, \\  -16729\\right), \\  \\left( -3, \\  -3999\\right), \\  \\left( -1, \\  5\\right), \\  \\left( 1, \\  1\\right), \\  \\left( 3, \\  4005\\right), \\  \\left( 4, \\  16735\\right)\\right]$"
      ],
      "text/plain": [
       "[(-4, -16729), (-3, -3999), (-1, 5), (1, 1), (3, 4005), (4, 16735)]"
      ]
     },
     "execution_count": 13,
     "metadata": {},
     "output_type": "execute_result"
    }
   ],
   "source": [
    "# create list of points for use in cycle\n",
    "\n",
    "points_lst = [(-4, -16729), (-3, -3999), (-1, 5), (1, 1), (3, 4005), (4, 16735)]\n",
    "points_lst"
   ]
  },
  {
   "cell_type": "code",
   "execution_count": 14,
   "metadata": {},
   "outputs": [
    {
     "data": {
      "image/png": "[encoded data removed]",
      "text/latex": [
       "$\\displaystyle a_{0} + a_{1} x + a_{2} x^{2} + a_{3} x^{3} + a_{4} x^{4} + a_{5} x^{5} - 4268$"
      ],
      "text/plain": [
       "                2       3       4       5       \n",
       "a0 + a1*x + a2*x  + a3*x  + a4*x  + a5*x  - 4268"
      ]
     },
     "execution_count": 14,
     "metadata": {},
     "output_type": "execute_result"
    }
   ],
   "source": [
    "# assing nullification equation\n",
    "\n",
    "(a5*x**5) + (a4*x**4) + (a3*x**3) + (a2*x**2) + (a1*x) + (a0) - (y)"
   ]
  },
  {
   "cell_type": "code",
   "execution_count": 15,
   "metadata": {},
   "outputs": [
    {
     "data": {
      "image/png": "[encoded data removed]",
      "text/latex": [
       "$\\displaystyle \\left[ a_{0} - 4 a_{1} + 16 a_{2} - 64 a_{3} + 256 a_{4} - 1024 a_{5} + 16729, \\  a_{0} - 3 a_{1} + 9 a_{2} - 27 a_{3} + 81 a_{4} - 243 a_{5} + 3999, \\  a_{0} - a_{1} + a_{2} - a_{3} + a_{4} - a_{5} - 5, \\  a_{0} + a_{1} + a_{2} + a_{3} + a_{4} + a_{5} - 1, \\  a_{0} + 3 a_{1} + 9 a_{2} + 27 a_{3} + 81 a_{4} + 243 a_{5} - 4005, \\  a_{0} + 4 a_{1} + 16 a_{2} + 64 a_{3} + 256 a_{4} + 1024 a_{5} - 16735\\right]$"
      ],
      "text/plain": [
       "[a0 - 4*a1 + 16*a2 - 64*a3 + 256*a4 - 1024*a5 + 16729, a0 - 3*a1 + 9*a2 - 27*a3 + 81*a4 - 243*a5 + 3999, a0 - a1 + a2 - a3 + a4 - a5 - 5, a0 + a1 + a2 + a3 + a4 + a5 - 1, a0 + 3*a1 + 9*a2 + 27*a3 + 81*a4 + 243*a5 - 4005, a0 + 4*a1 + 16*a2 + 64*a3 + 256*a4 + 1024*a5 - 16735]"
      ]
     },
     "execution_count": 15,
     "metadata": {},
     "output_type": "execute_result"
    }
   ],
   "source": [
    "# solve nullification equations in cycle and create results lst with equations results\n",
    "\n",
    "results_lst = []\n",
    "\n",
    "for elem in points_lst:\n",
    "    x = elem[0]\n",
    "    y = elem[1]\n",
    "    eq_lp = (a5*x**5) + (a4*x**4) + (a3*x**3) + (a2*x**2) + (a1*x) + (a0) - (y)\n",
    "    results_lst.append(eq_lp)\n",
    "\n",
    "results_lst"
   ]
  },
  {
   "cell_type": "code",
   "execution_count": 16,
   "metadata": {},
   "outputs": [],
   "source": [
    "# use nonlinsolve function\n",
    "\n",
    "coeff_res_lst = list(nonlinsolve(results_lst, coeff_lst))[0]"
   ]
  },
  {
   "cell_type": "code",
   "execution_count": 17,
   "metadata": {},
   "outputs": [
    {
     "data": {
      "image/png": "[encoded data removed]",
      "text/latex": [
       "$\\displaystyle 16 x^{5} + 7 x^{3} - 25 x + 3$"
      ],
      "text/plain": [
       "    5      3           \n",
       "16*x  + 7*x  - 25*x + 3"
      ]
     },
     "execution_count": 17,
     "metadata": {},
     "output_type": "execute_result"
    }
   ],
   "source": [
    "# write function\n",
    "\n",
    "f1 = 0\n",
    "x = Symbol('x')\n",
    "\n",
    "for num, elem in enumerate(coeff_res_lst[::-1]):\n",
    "    if num == 0:\n",
    "        elem = elem\n",
    "    else:\n",
    "        elem = elem*x**num\n",
    "    f1 += elem\n",
    "    \n",
    "f1"
   ]
  },
  {
   "cell_type": "code",
   "execution_count": 18,
   "metadata": {},
   "outputs": [
    {
     "name": "stdout",
     "output_type": "stream",
     "text": [
      "1, 5\n",
      "160006997503, -160006997497\n"
     ]
    }
   ],
   "source": [
    "# check for parity and symmetry\n",
    "\n",
    "print(f\"{f1.subs(x, 1)}, {f1.subs(x, -1)}\\n\"\n",
    "      f\"{f1.subs(x, 100)}, {f1.subs(x, -100)}\"\n",
    "     )"
   ]
  },
  {
   "cell_type": "code",
   "execution_count": 19,
   "metadata": {},
   "outputs": [
    {
     "data": {
      "image/png": "[encoded data removed]",
      "text/latex": [
       "$\\displaystyle \\left[ \\operatorname{CRootOf} {\\left(16 x^{5} + 7 x^{3} - 25 x + 3, 0\\right)}, \\  \\operatorname{CRootOf} {\\left(16 x^{5} + 7 x^{3} - 25 x + 3, 1\\right)}, \\  \\operatorname{CRootOf} {\\left(16 x^{5} + 7 x^{3} - 25 x + 3, 2\\right)}, \\  \\operatorname{CRootOf} {\\left(16 x^{5} + 7 x^{3} - 25 x + 3, 3\\right)}, \\  \\operatorname{CRootOf} {\\left(16 x^{5} + 7 x^{3} - 25 x + 3, 4\\right)}\\right]$"
      ],
      "text/plain": [
       "        /    5      3              \\         /    5      3              \\         /    5      3              \\         /    5      3              \\         /    5      3              \\ \n",
       "[CRootOf\\16*x  + 7*x  - 25*x + 3, 0/, CRootOf\\16*x  + 7*x  - 25*x + 3, 1/, CRootOf\\16*x  + 7*x  - 25*x + 3, 2/, CRootOf\\16*x  + 7*x  - 25*x + 3, 3/, CRootOf\\16*x  + 7*x  - 25*x + 3, 4/]"
      ]
     },
     "execution_count": 19,
     "metadata": {},
     "output_type": "execute_result"
    }
   ],
   "source": [
    "# find zero\n",
    "\n",
    "solve(f1)"
   ]
  },
  {
   "cell_type": "code",
   "execution_count": 20,
   "metadata": {},
   "outputs": [
    {
     "name": "stdout",
     "output_type": "stream",
     "text": [
      "((x < oo) & (CRootOf(16*x**5 + 7*x**3 - 25*x + 3, 2) < x)) | ((x < CRootOf(16*x**5 + 7*x**3 - 25*x + 3, 1)) & (CRootOf(16*x**5 + 7*x**3 - 25*x + 3, 0) < x))\n",
      "((-oo < x) & (x < CRootOf(16*x**5 + 7*x**3 - 25*x + 3, 0))) | ((x < CRootOf(16*x**5 + 7*x**3 - 25*x + 3, 2)) & (CRootOf(16*x**5 + 7*x**3 - 25*x + 3, 1) < x))\n"
     ]
    }
   ],
   "source": [
    "# find constancy intervals\n",
    "\n",
    "print(f\"{solve_univariate_inequality(f1>0, x)}\\n\"\n",
    "      f\"{solve_univariate_inequality(f1<0, x)}\")"
   ]
  },
  {
   "cell_type": "code",
   "execution_count": 21,
   "metadata": {},
   "outputs": [
    {
     "data": {
      "image/png": "[encoded data removed]",
      "text/plain": [
       "<Figure size 432x288 with 1 Axes>"
      ]
     },
     "metadata": {
      "needs_background": "light"
     },
     "output_type": "display_data"
    },
    {
     "data": {
      "text/plain": [
       "<sympy.plotting.plot.Plot at 0x1fe569aab20>"
      ]
     },
     "execution_count": 21,
     "metadata": {},
     "output_type": "execute_result"
    }
   ],
   "source": [
    "# draw graph\n",
    "plot(f)"
   ]
  },
  {
   "cell_type": "markdown",
   "metadata": {},
   "source": [
    "### my conclusion:\n",
    "* ни нечетная, ни четная\n",
    "* несимметричная"
   ]
  },
  {
   "cell_type": "markdown",
   "metadata": {
    "id": "4jCUKC9CuyKO"
   },
   "source": [
    "# Блок 2."
   ]
  },
  {
   "cell_type": "code",
   "execution_count": 22,
   "metadata": {
    "id": "5ElcKCqet0wk"
   },
   "outputs": [],
   "source": [
    "from sympy import *\n",
    "from sympy.plotting import plot\n",
    "init_printing(use_unicode=False, wrap_line=False, no_global=True)"
   ]
  },
  {
   "cell_type": "code",
   "execution_count": 23,
   "metadata": {
    "id": "QwTY4Sq8t0w2"
   },
   "outputs": [],
   "source": [
    "import matplotlib.pyplot as plt\n",
    "import numpy as np"
   ]
  },
  {
   "cell_type": "code",
   "execution_count": 24,
   "metadata": {
    "id": "Y0t8k28Jt0xG"
   },
   "outputs": [],
   "source": [
    "x = Symbol('x')"
   ]
  },
  {
   "cell_type": "markdown",
   "metadata": {
    "id": "wLhMVWF9t0xQ"
   },
   "source": [
    "## 1.\n",
    "### Получите значение MSE меньшее 5."
   ]
  },
  {
   "cell_type": "code",
   "execution_count": 25,
   "metadata": {
    "id": "LX3-aD49t0xU"
   },
   "outputs": [],
   "source": [
    "def print_points_ands_function1(sympy_function):\n",
    "    def function(x_): return float(sympy_function.subs(x, x_))\n",
    "    \n",
    "    points_X = np.array([-2, -1, 0, 1, 2, 3, 3.5, 4, 4.5, 5])\n",
    "    points_Y = np.array([2, -4, 1, 8, 21, 40, 47, 65, 75, 92])\n",
    "    plt.xlim(-6, 10)\n",
    "    plt.ylim(-1, 100)\n",
    "    \n",
    "    plt.scatter(points_X, points_Y, c='r')\n",
    "    x_range = np.linspace(plt.xlim()[0], plt.xlim()[1], num=100)\n",
    "    function_Y = [function(x_) for x_ in x_range]\n",
    "    plt.plot(x_range, function_Y, 'b')\n",
    "    plt.show()\n",
    "    \n",
    "    MSE = sum([(points_Y[i] - function(points_X[i]))**2 for i in range(len(points_Y))]) / len(points_Y)\n",
    "    print(f'MSE = {MSE}')"
   ]
  },
  {
   "cell_type": "code",
   "execution_count": 26,
   "metadata": {
    "id": "tCcjAV0qt0xb",
    "outputId": "7d73b65e-59f0-4d31-c914-f97d7da81900"
   },
   "outputs": [
    {
     "data": {
      "image/png": "[encoded data removed]",
      "text/latex": [
       "$\\displaystyle 48 x^{2} - 128 x + 83$"
      ],
      "text/plain": [
       "    2             \n",
       "48*x  - 128*x + 83"
      ]
     },
     "execution_count": 26,
     "metadata": {},
     "output_type": "execute_result"
    }
   ],
   "source": [
    "f1 = 48 * x**2 - 128 * x + 83\n",
    "f1"
   ]
  },
  {
   "cell_type": "code",
   "execution_count": 27,
   "metadata": {
    "id": "VQwDN4XLt0xl",
    "outputId": "a46d8327-06b3-4fbc-fa5d-6a1e4648a22e"
   },
   "outputs": [
    {
     "data": {
      "image/png": "[encoded data removed]",
      "text/plain": [
       "<Figure size 432x288 with 1 Axes>"
      ]
     },
     "metadata": {
      "needs_background": "light"
     },
     "output_type": "display_data"
    },
    {
     "name": "stdout",
     "output_type": "stream",
     "text": [
      "MSE = 93691.3\n"
     ]
    }
   ],
   "source": [
    "print_points_ands_function1(f1)"
   ]
  },
  {
   "cell_type": "code",
   "execution_count": 28,
   "metadata": {},
   "outputs": [],
   "source": [
    "f1_new = f1.subs(x, x/4).subs(x, x + 6)"
   ]
  },
  {
   "cell_type": "code",
   "execution_count": 29,
   "metadata": {},
   "outputs": [
    {
     "data": {
      "image/png": "[encoded data removed]",
      "text/plain": [
       "<Figure size 432x288 with 1 Axes>"
      ]
     },
     "metadata": {
      "needs_background": "light"
     },
     "output_type": "display_data"
    },
    {
     "name": "stdout",
     "output_type": "stream",
     "text": [
      "MSE = 4.4125\n"
     ]
    }
   ],
   "source": [
    "print_points_ands_function1(f1_new)"
   ]
  },
  {
   "cell_type": "markdown",
   "metadata": {
    "id": "HRrtO4Lyt0xt"
   },
   "source": [
    "## 2.\n",
    "### Получите значение MSE меньшее 35."
   ]
  },
  {
   "cell_type": "code",
   "execution_count": 30,
   "metadata": {
    "id": "dm_YVXYgt0xw"
   },
   "outputs": [],
   "source": [
    "def print_points_ands_function2(sympy_function):\n",
    "    def function(x_): return float(sympy_function.subs(x, x_))\n",
    "    \n",
    "    points_X = np.array([-2, -1, 0, 1, 2, 3, 3.5, 4, 4.5, 5])\n",
    "    points_Y = np.array([-31, -9, 4, -1, 9, 24, 47, 92, 120, 170])\n",
    "    plt.xlim(-3, 6)\n",
    "    plt.ylim(-35, 200)\n",
    "    \n",
    "    plt.scatter(points_X, points_Y, c='r')\n",
    "    x_range = np.linspace(plt.xlim()[0], plt.xlim()[1], num=100)\n",
    "    function_Y = [function(x_) for x_ in x_range]\n",
    "    plt.plot(x_range, function_Y, 'b')\n",
    "    plt.show()\n",
    "    \n",
    "    MSE = sum([(points_Y[i] - function(points_X[i]))**2 for i in range(len(points_Y))]) / len(points_Y)\n",
    "    print(f'MSE = {MSE}')"
   ]
  },
  {
   "cell_type": "code",
   "execution_count": 31,
   "metadata": {
    "id": "7LMQiJDKt0x1",
    "outputId": "8b8d6fed-a7c9-4a8d-c9f8-9ace332dd838"
   },
   "outputs": [
    {
     "data": {
      "image/png": "[encoded data removed]",
      "text/latex": [
       "$\\displaystyle 4 x^{3} + 30 x^{2} + 74 x + 62$"
      ],
      "text/plain": [
       "   3       2            \n",
       "4*x  + 30*x  + 74*x + 62"
      ]
     },
     "execution_count": 31,
     "metadata": {},
     "output_type": "execute_result"
    }
   ],
   "source": [
    "f2 = 4 * x**3 + 30 * x**2 + 74 * x + 62\n",
    "f2"
   ]
  },
  {
   "cell_type": "code",
   "execution_count": 32,
   "metadata": {
    "id": "SjwUXoCXt0x6",
    "outputId": "a5e8c7e9-602e-430b-acd3-c8c5bd2b055e"
   },
   "outputs": [
    {
     "data": {
      "image/png": "[encoded data removed]",
      "text/plain": [
       "<Figure size 432x288 with 1 Axes>"
      ]
     },
     "metadata": {
      "needs_background": "light"
     },
     "output_type": "display_data"
    },
    {
     "name": "stdout",
     "output_type": "stream",
     "text": [
      "MSE = 607200.2\n"
     ]
    }
   ],
   "source": [
    "print_points_ands_function2(f2)"
   ]
  },
  {
   "cell_type": "code",
   "execution_count": 33,
   "metadata": {},
   "outputs": [],
   "source": [
    "f2_new = f2.subs(x, x - 3).subs(x, x/1.244)"
   ]
  },
  {
   "cell_type": "code",
   "execution_count": 34,
   "metadata": {},
   "outputs": [
    {
     "data": {
      "image/png": "[encoded data removed]",
      "text/plain": [
       "<Figure size 432x288 with 1 Axes>"
      ]
     },
     "metadata": {
      "needs_background": "light"
     },
     "output_type": "display_data"
    },
    {
     "name": "stdout",
     "output_type": "stream",
     "text": [
      "MSE = 22.491717976337178\n"
     ]
    }
   ],
   "source": [
    "print_points_ands_function2(f2_new)"
   ]
  },
  {
   "cell_type": "markdown",
   "metadata": {
    "id": "xYJNX-nUt0x_"
   },
   "source": [
    "## 3.\n",
    "### Получите значение MSE меньшее 3300."
   ]
  },
  {
   "cell_type": "code",
   "execution_count": 35,
   "metadata": {
    "id": "UNLnKjvit0yB"
   },
   "outputs": [],
   "source": [
    "def print_points_ands_function3(sympy_function):\n",
    "    def function(x_): return float(sympy_function.subs(x, x_))\n",
    "    \n",
    "    points_X = np.array([-2, -1, 0, 1, 2, 3, 3.5, 4, 4.5, 5])\n",
    "    points_Y = np.array([60, 25, 4, -0, -57, -195, -295, -540, -700, -760])\n",
    "    plt.xlim(-10, 6)\n",
    "    plt.ylim(-850, 100)\n",
    "    \n",
    "    plt.scatter(points_X, points_Y, c='r')\n",
    "    x_range = np.linspace(plt.xlim()[0], plt.xlim()[1], num=100)\n",
    "    function_Y = [function(x_) for x_ in x_range]\n",
    "    plt.plot(x_range, function_Y, 'b')\n",
    "    plt.show()\n",
    "    \n",
    "    MSE = sum([(points_Y[i] - function(points_X[i]))**2 for i in range(len(points_Y))]) / len(points_Y)\n",
    "    print(f'MSE = {MSE}')"
   ]
  },
  {
   "cell_type": "code",
   "execution_count": 36,
   "metadata": {
    "id": "osbCVOuIt0yH",
    "outputId": "22bfe175-fcf5-4290-9dd1-3b2fc34ff029"
   },
   "outputs": [
    {
     "data": {
      "image/png": "[encoded data removed]",
      "text/latex": [
       "$\\displaystyle - 36 x^{3} - 756 x^{2} - 5334 x - 12636$"
      ],
      "text/plain": [
       "      3        2                 \n",
       "- 36*x  - 756*x  - 5334*x - 12636"
      ]
     },
     "execution_count": 36,
     "metadata": {},
     "output_type": "execute_result"
    }
   ],
   "source": [
    "f3 = -36 * x**3 - 756 * x**2 - 5334 * x - 12636\n",
    "f3"
   ]
  },
  {
   "cell_type": "code",
   "execution_count": 37,
   "metadata": {
    "id": "1T4lJVQPt0yR",
    "outputId": "ab86dbbf-6fd9-42a9-f5ef-6316179ace4f"
   },
   "outputs": [
    {
     "data": {
      "image/png": "[encoded data removed]",
      "text/plain": [
       "<Figure size 432x288 with 1 Axes>"
      ]
     },
     "metadata": {
      "needs_background": "light"
     },
     "output_type": "display_data"
    },
    {
     "name": "stdout",
     "output_type": "stream",
     "text": [
      "MSE = 1346344545.35\n"
     ]
    }
   ],
   "source": [
    "print_points_ands_function3(f3)"
   ]
  },
  {
   "cell_type": "code",
   "execution_count": 38,
   "metadata": {},
   "outputs": [
    {
     "data": {
      "image/png": "[encoded data removed]",
      "text/plain": [
       "<Figure size 432x288 with 1 Axes>"
      ]
     },
     "metadata": {
      "needs_background": "light"
     },
     "output_type": "display_data"
    },
    {
     "name": "stdout",
     "output_type": "stream",
     "text": [
      "MSE = 2660.491899100717\n"
     ]
    }
   ],
   "source": [
    "f3_new = f3.subs(x, x - 7).subs(x, x/1.8)\n",
    "print_points_ands_function3(f3_new)"
   ]
  },
  {
   "cell_type": "markdown",
   "metadata": {
    "id": "3jcBH1M3t0yZ"
   },
   "source": [
    "## 4.\n",
    "### Получите значение MSE меньшее 25."
   ]
  },
  {
   "cell_type": "code",
   "execution_count": 39,
   "metadata": {
    "id": "R4nnsc8zt0yb"
   },
   "outputs": [],
   "source": [
    "def print_points_ands_function4(sympy_function):\n",
    "    def function(x_): return float(sympy_function.subs(x, x_))\n",
    "    \n",
    "    points_X = np.array([-2, -1, 0, 1, 2, 3, 3.5, 4, 4.5, 5])\n",
    "    points_Y = np.array([-42, -37, -23, -36, -45, -80, -83, -110, -131, -155])\n",
    "    plt.xlim(-4, 20)\n",
    "    plt.ylim(-160, -10)\n",
    "    \n",
    "    plt.scatter(points_X, points_Y, c='r')\n",
    "    x_range = np.linspace(plt.xlim()[0], plt.xlim()[1], num=100)\n",
    "    function_Y = [function(x_) for x_ in x_range]\n",
    "    plt.plot(x_range, function_Y, 'b')\n",
    "    plt.show()\n",
    "    \n",
    "    MSE = sum([(points_Y[i] - function(points_X[i]))**2 for i in range(len(points_Y))]) / len(points_Y)\n",
    "    print(f'MSE = {MSE}')"
   ]
  },
  {
   "cell_type": "code",
   "execution_count": 40,
   "metadata": {
    "id": "Uq__GcfPt0yj",
    "outputId": "345572d8-35a9-47c2-d7c9-4769bd8d17e7"
   },
   "outputs": [
    {
     "data": {
      "image/png": "[encoded data removed]",
      "text/latex": [
       "$\\displaystyle - 1.25 x^{2} + 25 x - 152$"
      ],
      "text/plain": [
       "        2             \n",
       "- 1.25*x  + 25*x - 152"
      ]
     },
     "execution_count": 40,
     "metadata": {},
     "output_type": "execute_result"
    }
   ],
   "source": [
    "f4 = - 5 / 4 * x**2 + 25 * x - 152\n",
    "f4"
   ]
  },
  {
   "cell_type": "code",
   "execution_count": 41,
   "metadata": {
    "id": "Muwpsp8tt0yp",
    "outputId": "99828dab-4bd6-434b-fdc9-ee8fa9113858"
   },
   "outputs": [
    {
     "data": {
      "image/png": "[encoded data removed]",
      "text/plain": [
       "<Figure size 432x288 with 1 Axes>"
      ]
     },
     "metadata": {
      "needs_background": "light"
     },
     "output_type": "display_data"
    },
    {
     "name": "stdout",
     "output_type": "stream",
     "text": [
      "MSE = 9143.51953125\n"
     ]
    }
   ],
   "source": [
    "print_points_ands_function4(f4)"
   ]
  },
  {
   "cell_type": "code",
   "execution_count": 42,
   "metadata": {
    "id": "oTNLmWfDt0yt"
   },
   "outputs": [
    {
     "data": {
      "image/png": "[encoded data removed]",
      "text/plain": [
       "<Figure size 432x288 with 1 Axes>"
      ]
     },
     "metadata": {
      "needs_background": "light"
     },
     "output_type": "display_data"
    },
    {
     "name": "stdout",
     "output_type": "stream",
     "text": [
      "MSE = 20.3125\n"
     ]
    }
   ],
   "source": [
    "f4_new = f4.subs(x, x + 10).subs(x, x*2)\n",
    "print_points_ands_function4(f4_new)"
   ]
  }
 ],
 "metadata": {
  "colab": {
   "collapsed_sections": [],
   "name": "Аппроксимация и преобразования функций. Домашнее задание.ipynb",
   "provenance": []
  },
  "kernelspec": {
   "display_name": "Python 3 (ipykernel)",
   "language": "python",
   "name": "python3"
  },
  "language_info": {
   "codemirror_mode": {
    "name": "ipython",
    "version": 3
   },
   "file_extension": ".py",
   "mimetype": "text/x-python",
   "name": "python",
   "nbconvert_exporter": "python",
   "pygments_lexer": "ipython3",
   "version": "3.9.7"
  },
  "toc": {
   "base_numbering": 1,
   "nav_menu": {},
   "number_sections": true,
   "sideBar": true,
   "skip_h1_title": false,
   "title_cell": "Table of Contents",
   "title_sidebar": "Contents",
   "toc_cell": false,
   "toc_position": {},
   "toc_section_display": true,
   "toc_window_display": false
  }
 },
 "nbformat": 4,
 "nbformat_minor": 1
}
