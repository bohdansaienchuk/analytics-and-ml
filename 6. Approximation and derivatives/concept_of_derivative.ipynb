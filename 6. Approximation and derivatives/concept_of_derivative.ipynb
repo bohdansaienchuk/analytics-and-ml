{
 "cells": [
  {
   "cell_type": "code",
   "execution_count": 117,
   "id": "e40c0392",
   "metadata": {},
   "outputs": [],
   "source": [
    "from sympy import *\n",
    "from sympy.plotting import plot\n",
    "from sympy.solvers.inequalities import solve_univariate_inequality\n",
    "import numpy as np\n",
    "import matplotlib.pyplot as plt\n",
    "import numpy as np\n",
    "import pandas as pd\n",
    "\n",
    "init_printing(use_unicode=False, wrap_line=False, no_global=True)"
   ]
  },
  {
   "cell_type": "markdown",
   "id": "37f69fe3",
   "metadata": {},
   "source": [
    "# metric creation"
   ]
  },
  {
   "cell_type": "code",
   "execution_count": 116,
   "id": "1c5b34fb",
   "metadata": {},
   "outputs": [
    {
     "data": {
      "text/plain": [
       "array([(1, 2, 3), (4, 5, 6), (7, 8, 9)],\n",
       "      dtype=[('col1', '<i4'), ('col2', '<i4'), ('col3', '<i4')])"
      ]
     },
     "execution_count": 116,
     "metadata": {},
     "output_type": "execute_result"
    }
   ],
   "source": [
    "metric = np.array([(1, 2, 3), (4, 5, 6), (7, 8, 9)],\n",
    "                  dtype=[('col1', int), ('col2', int), ('col3', int)])\n",
    "metric"
   ]
  },
  {
   "cell_type": "code",
   "execution_count": 120,
   "id": "ae86d5f3",
   "metadata": {},
   "outputs": [
    {
     "data": {
      "text/html": [
       "<div>\n",
       "<style scoped>\n",
       "    .dataframe tbody tr th:only-of-type {\n",
       "        vertical-align: middle;\n",
       "    }\n",
       "\n",
       "    .dataframe tbody tr th {\n",
       "        vertical-align: top;\n",
       "    }\n",
       "\n",
       "    .dataframe thead th {\n",
       "        text-align: right;\n",
       "    }\n",
       "</style>\n",
       "<table border=\"1\" class=\"dataframe\">\n",
       "  <thead>\n",
       "    <tr style=\"text-align: right;\">\n",
       "      <th></th>\n",
       "      <th>col1</th>\n",
       "      <th>col2</th>\n",
       "      <th>col3</th>\n",
       "    </tr>\n",
       "  </thead>\n",
       "  <tbody>\n",
       "    <tr>\n",
       "      <th>0</th>\n",
       "      <td>1</td>\n",
       "      <td>2</td>\n",
       "      <td>3</td>\n",
       "    </tr>\n",
       "    <tr>\n",
       "      <th>1</th>\n",
       "      <td>4</td>\n",
       "      <td>5</td>\n",
       "      <td>6</td>\n",
       "    </tr>\n",
       "    <tr>\n",
       "      <th>2</th>\n",
       "      <td>7</td>\n",
       "      <td>8</td>\n",
       "      <td>9</td>\n",
       "    </tr>\n",
       "  </tbody>\n",
       "</table>\n",
       "</div>"
      ],
      "text/plain": [
       "   col1  col2  col3\n",
       "0     1     2     3\n",
       "1     4     5     6\n",
       "2     7     8     9"
      ]
     },
     "execution_count": 120,
     "metadata": {},
     "output_type": "execute_result"
    }
   ],
   "source": [
    "pd.DataFrame(metric)"
   ]
  },
  {
   "cell_type": "code",
   "execution_count": 162,
   "id": "dfd52cd0",
   "metadata": {},
   "outputs": [],
   "source": [
    "def metric(n, row_count, col_count, start_num):\n",
    "    \n",
    "    for row in range(row_count):\n",
    "        for col in range(start_num, start_num+col_count):\n",
    "            print(col, end=' ')\n",
    "        start_num += col_count\n",
    "        print()"
   ]
  },
  {
   "cell_type": "code",
   "execution_count": 161,
   "id": "6b2246c2",
   "metadata": {},
   "outputs": [],
   "source": [
    "def metric_transpone(n, row_count, col_count, start_num):\n",
    "    \n",
    "    for row in range(row_count):\n",
    "        for col in range(start_num, start_num+col_count*2, 2):\n",
    "            print(col, end=' ')\n",
    "        start_num += 1\n",
    "        print()"
   ]
  },
  {
   "cell_type": "code",
   "execution_count": 155,
   "id": "61b6cad0",
   "metadata": {
    "scrolled": true
   },
   "outputs": [
    {
     "name": "stdout",
     "output_type": "stream",
     "text": [
      "1 2 \n",
      "3 4 \n",
      "5 6 \n",
      "7 8 \n",
      "9 10 \n"
     ]
    }
   ],
   "source": [
    "metric(10, 2, 2, 1)"
   ]
  },
  {
   "cell_type": "code",
   "execution_count": 163,
   "id": "686105ed",
   "metadata": {},
   "outputs": [
    {
     "name": "stdout",
     "output_type": "stream",
     "text": [
      "1 3 5 7 9 11 13 \n",
      "2 4 6 8 10 12 14 \n"
     ]
    }
   ],
   "source": [
    "metric_transpone(14, 2, 7, 1)"
   ]
  },
  {
   "cell_type": "markdown",
   "id": "158c6597",
   "metadata": {},
   "source": [
    "f(x)=x^2+3x-4,f'(x)=2x+3\n",
    "\n",
    "f(x)=〖x^3-2x〗^2+x-6,f'(x)=3x^2-4x+1\n",
    "\n",
    "f(x)=e^(2x-x^2 ),f'(x)=(2-2x)e^(2x-x^2 )"
   ]
  },
  {
   "cell_type": "markdown",
   "id": "c961f939",
   "metadata": {},
   "source": [
    "# f(x)=x^2+3x-4,f'(x)=2x+3"
   ]
  },
  {
   "cell_type": "code",
   "execution_count": 3,
   "id": "5f18a26f",
   "metadata": {},
   "outputs": [],
   "source": [
    "x = Symbol('x')"
   ]
  },
  {
   "cell_type": "code",
   "execution_count": 9,
   "id": "fa96ee5e",
   "metadata": {},
   "outputs": [
    {
     "data": {
      "image/png": "[encoded data removed]",
      "text/latex": [
       "$\\displaystyle x^{2} + 3 x - 4$"
      ],
      "text/plain": [
       " 2          \n",
       "x  + 3*x - 4"
      ]
     },
     "execution_count": 9,
     "metadata": {},
     "output_type": "execute_result"
    }
   ],
   "source": [
    "f = x**2 + 3*x - 4\n",
    "f"
   ]
  },
  {
   "cell_type": "code",
   "execution_count": 8,
   "id": "145b4c37",
   "metadata": {},
   "outputs": [
    {
     "data": {
      "image/png": "[encoded data removed]",
      "text/latex": [
       "$\\displaystyle 2 x + 3$"
      ],
      "text/plain": [
       "2*x + 3"
      ]
     },
     "execution_count": 8,
     "metadata": {},
     "output_type": "execute_result"
    }
   ],
   "source": [
    "diff_f = 2*x + 3\n",
    "diff_f"
   ]
  },
  {
   "cell_type": "code",
   "execution_count": 7,
   "id": "fcb74496",
   "metadata": {},
   "outputs": [
    {
     "data": {
      "image/png": "[encoded data removed]",
      "text/latex": [
       "$\\displaystyle 3$"
      ],
      "text/plain": [
       "3"
      ]
     },
     "execution_count": 7,
     "metadata": {},
     "output_type": "execute_result"
    }
   ],
   "source": [
    "y = 2*0 + 3\n",
    "y"
   ]
  },
  {
   "cell_type": "code",
   "execution_count": 10,
   "id": "716a2455",
   "metadata": {},
   "outputs": [
    {
     "data": {
      "image/png": "[encoded data removed]",
      "text/latex": [
       "$\\displaystyle - \\frac{3}{2} < x \\wedge x < \\infty$"
      ],
      "text/plain": [
       "And(-3/2 < x, x < oo)"
      ]
     },
     "execution_count": 10,
     "metadata": {},
     "output_type": "execute_result"
    }
   ],
   "source": [
    "solve_univariate_inequality(diff_f>0, x)"
   ]
  },
  {
   "cell_type": "code",
   "execution_count": 11,
   "id": "1ad2a490",
   "metadata": {},
   "outputs": [
    {
     "data": {
      "image/png": "[encoded data removed]",
      "text/latex": [
       "$\\displaystyle -\\infty < x \\wedge x < - \\frac{3}{2}$"
      ],
      "text/plain": [
       "And(-oo < x, x < -3/2)"
      ]
     },
     "execution_count": 11,
     "metadata": {},
     "output_type": "execute_result"
    }
   ],
   "source": [
    "solve_univariate_inequality(diff_f<0, x)"
   ]
  },
  {
   "cell_type": "code",
   "execution_count": 12,
   "id": "d1716fb1",
   "metadata": {},
   "outputs": [
    {
     "data": {
      "image/png": "[encoded data removed]",
      "text/latex": [
       "$\\displaystyle \\left[ - \\frac{3}{2}\\right]$"
      ],
      "text/plain": [
       "[-3/2]"
      ]
     },
     "execution_count": 12,
     "metadata": {},
     "output_type": "execute_result"
    }
   ],
   "source": [
    "solve(diff_f)"
   ]
  },
  {
   "cell_type": "markdown",
   "id": "dfe6f728",
   "metadata": {},
   "source": [
    "# f(x)=〖x^3-2x〗^2+x-6,f'(x)=3x^2-4x+1"
   ]
  },
  {
   "cell_type": "code",
   "execution_count": 14,
   "id": "110e4988",
   "metadata": {},
   "outputs": [
    {
     "data": {
      "image/png": "[encoded data removed]",
      "text/latex": [
       "$\\displaystyle x^{2} - 2 x$"
      ],
      "text/plain": [
       " 2      \n",
       "x  - 2*x"
      ]
     },
     "execution_count": 14,
     "metadata": {},
     "output_type": "execute_result"
    }
   ],
   "source": [
    "f = x**2 - 2*x\n",
    "f"
   ]
  },
  {
   "cell_type": "code",
   "execution_count": 16,
   "id": "8e741ad5",
   "metadata": {},
   "outputs": [
    {
     "data": {
      "image/png": "[encoded data removed]",
      "text/latex": [
       "$\\displaystyle 3 x^{2} - 4 x + 1$"
      ],
      "text/plain": [
       "   2          \n",
       "3*x  - 4*x + 1"
      ]
     },
     "execution_count": 16,
     "metadata": {},
     "output_type": "execute_result"
    }
   ],
   "source": [
    "# function derivative\n",
    "\n",
    "f_diff = 3*x**2 - 4*x + 1\n",
    "f_diff"
   ]
  },
  {
   "cell_type": "code",
   "execution_count": 17,
   "id": "95bfe8cc",
   "metadata": {},
   "outputs": [
    {
     "data": {
      "image/png": "[encoded data removed]",
      "text/latex": [
       "$\\displaystyle \\left[ \\frac{1}{3}, \\  1\\right]$"
      ],
      "text/plain": [
       "[1/3, 1]"
      ]
     },
     "execution_count": 17,
     "metadata": {},
     "output_type": "execute_result"
    }
   ],
   "source": [
    "# find zero\n",
    "\n",
    "solve(f_diff)"
   ]
  },
  {
   "cell_type": "code",
   "execution_count": 18,
   "id": "493b9276",
   "metadata": {},
   "outputs": [
    {
     "data": {
      "image/png": "[encoded data removed]",
      "text/latex": [
       "$\\displaystyle \\left(-\\infty < x \\wedge x < \\frac{1}{3}\\right) \\vee \\left(1 < x \\wedge x < \\infty\\right)$"
      ],
      "text/plain": [
       "Or(And(-oo < x, x < 1/3), And(1 < x, x < oo))"
      ]
     },
     "execution_count": 18,
     "metadata": {},
     "output_type": "execute_result"
    }
   ],
   "source": [
    "# find constancy intervals\n",
    "\n",
    "solve_univariate_inequality(f_diff>0, x)"
   ]
  },
  {
   "cell_type": "code",
   "execution_count": 19,
   "id": "cbcb3c46",
   "metadata": {},
   "outputs": [
    {
     "data": {
      "image/png": "[encoded data removed]",
      "text/latex": [
       "$\\displaystyle \\frac{1}{3} < x \\wedge x < 1$"
      ],
      "text/plain": [
       "And(1/3 < x, x < 1)"
      ]
     },
     "execution_count": 19,
     "metadata": {},
     "output_type": "execute_result"
    }
   ],
   "source": [
    "solve_univariate_inequality(f_diff<0, x)"
   ]
  },
  {
   "cell_type": "code",
   "execution_count": 23,
   "id": "225b1bfc",
   "metadata": {
    "scrolled": true
   },
   "outputs": [
    {
     "data": {
      "image/png": "[encoded data removed]",
      "text/plain": [
       "<Figure size 432x288 with 1 Axes>"
      ]
     },
     "metadata": {
      "needs_background": "light"
     },
     "output_type": "display_data"
    },
    {
     "data": {
      "text/plain": [
       "<sympy.plotting.plot.Plot at 0x1ab43a50160>"
      ]
     },
     "execution_count": 23,
     "metadata": {},
     "output_type": "execute_result"
    }
   ],
   "source": [
    "plot(f, (x, -1, 3))"
   ]
  },
  {
   "cell_type": "markdown",
   "id": "3870e83d",
   "metadata": {},
   "source": [
    "# example - search MSE"
   ]
  },
  {
   "cell_type": "code",
   "execution_count": 45,
   "id": "afd36fe6",
   "metadata": {},
   "outputs": [],
   "source": [
    "x_1 = np.random.randint(-5, 5, size=5)\n",
    "y_1 = np.random.randint(-5, 5, size=5)"
   ]
  },
  {
   "cell_type": "code",
   "execution_count": 46,
   "id": "83640f66",
   "metadata": {},
   "outputs": [
    {
     "data": {
      "text/plain": [
       "(array([-2,  3, -5,  0,  2]), array([ 0, -4,  0,  3, -1]))"
      ]
     },
     "execution_count": 46,
     "metadata": {},
     "output_type": "execute_result"
    }
   ],
   "source": [
    "x_1, y_1"
   ]
  },
  {
   "cell_type": "code",
   "execution_count": 32,
   "id": "80f5c78e",
   "metadata": {},
   "outputs": [
    {
     "data": {
      "text/plain": [
       "<matplotlib.collections.PathCollection at 0x1ab45bf24f0>"
      ]
     },
     "execution_count": 32,
     "metadata": {},
     "output_type": "execute_result"
    },
    {
     "data": {
      "image/png": "[encoded data removed]",
      "text/plain": [
       "<Figure size 504x360 with 1 Axes>"
      ]
     },
     "metadata": {
      "needs_background": "light"
     },
     "output_type": "display_data"
    }
   ],
   "source": [
    "fig, ax = plt.subplots(figsize=(7, 5))\n",
    "\n",
    "ax.scatter(x, y)"
   ]
  },
  {
   "cell_type": "code",
   "execution_count": 47,
   "id": "128392b2",
   "metadata": {},
   "outputs": [
    {
     "data": {
      "text/plain": [
       "[(-2, 0), (3, -4), (-5, 0), (0, 3), (2, -1)]"
      ]
     },
     "execution_count": 47,
     "metadata": {},
     "output_type": "execute_result"
    }
   ],
   "source": [
    "points = [(i, j) for num, i in enumerate(x_1) for num_1, j in enumerate(y_1[num:num+1])]\n",
    "points"
   ]
  },
  {
   "cell_type": "code",
   "execution_count": 48,
   "id": "4881f99f",
   "metadata": {},
   "outputs": [],
   "source": [
    "# create polynomial function\n",
    "\n",
    "# assign coefficients and create list\n",
    "\n",
    "a4, a3, a2, a1, a0 = symbols('a4, a3, a2, a1, a0')\n",
    "\n",
    "coeff_lst = (a4, a3, a2, a1, a0)"
   ]
  },
  {
   "cell_type": "code",
   "execution_count": 49,
   "id": "77eefdba",
   "metadata": {},
   "outputs": [],
   "source": [
    "# assign symbols x and y\n",
    "\n",
    "x = Symbol('x')\n",
    "y = Symbol('y')"
   ]
  },
  {
   "cell_type": "code",
   "execution_count": 50,
   "id": "f7360464",
   "metadata": {},
   "outputs": [
    {
     "data": {
      "image/png": "[encoded data removed]",
      "text/latex": [
       "$\\displaystyle \\left[ a_{0} - 2 a_{1} + 4 a_{2} - 8 a_{3} + 16 a_{4}, \\  a_{0} + 3 a_{1} + 9 a_{2} + 27 a_{3} + 81 a_{4} + 4, \\  a_{0} - 5 a_{1} + 25 a_{2} - 125 a_{3} + 625 a_{4}, \\  a_{0} - 3, \\  a_{0} + 2 a_{1} + 4 a_{2} + 8 a_{3} + 16 a_{4} + 1\\right]$"
      ],
      "text/plain": [
       "[a0 - 2*a1 + 4*a2 - 8*a3 + 16*a4, a0 + 3*a1 + 9*a2 + 27*a3 + 81*a4 + 4, a0 - 5*a1 + 25*a2 - 125*a3 + 625*a4, a0 - 3, a0 + 2*a1 + 4*a2 + 8*a3 + 16*a4 + 1]"
      ]
     },
     "execution_count": 50,
     "metadata": {},
     "output_type": "execute_result"
    }
   ],
   "source": [
    "# solve nullification equations in cycle and create results lst with equations results\n",
    "\n",
    "results_lst = []\n",
    "\n",
    "for elem in points:\n",
    "    x = elem[0]\n",
    "    y = elem[1]\n",
    "    eq_lp = (a4*x**4) + (a3*x**3) + (a2*x**2) + (a1*x) + (a0) - (y)\n",
    "    results_lst.append(eq_lp)\n",
    "\n",
    "results_lst"
   ]
  },
  {
   "cell_type": "code",
   "execution_count": 51,
   "id": "3d3f3a8b",
   "metadata": {},
   "outputs": [],
   "source": [
    "# use nonlinsolve function\n",
    "\n",
    "coeff_res_lst = list(nonlinsolve(results_lst, coeff_lst))[0]"
   ]
  },
  {
   "cell_type": "code",
   "execution_count": 52,
   "id": "b3543803",
   "metadata": {},
   "outputs": [
    {
     "data": {
      "image/png": "[encoded data removed]",
      "text/latex": [
       "$\\displaystyle \\frac{29 x^{4}}{840} + \\frac{x^{3}}{210} - \\frac{851 x^{2}}{840} - \\frac{113 x}{420} + 3$"
      ],
      "text/plain": [
       "    4     3        2            \n",
       "29*x     x    851*x    113*x    \n",
       "----- + --- - ------ - ----- + 3\n",
       " 840    210    840      420     "
      ]
     },
     "execution_count": 52,
     "metadata": {},
     "output_type": "execute_result"
    }
   ],
   "source": [
    "# write function\n",
    "\n",
    "f = 0\n",
    "x = Symbol('x')\n",
    "\n",
    "for num, elem in enumerate(coeff_res_lst[::-1]):\n",
    "    if num == 0:\n",
    "        elem = elem\n",
    "    else:\n",
    "        elem = elem*x**num\n",
    "    f += elem\n",
    "    \n",
    "f"
   ]
  },
  {
   "cell_type": "code",
   "execution_count": 57,
   "id": "0e32af41",
   "metadata": {},
   "outputs": [
    {
     "data": {
      "text/plain": [
       "(array([-2,  3, -5,  0,  2]), array([ 0, -4,  0,  3, -1]))"
      ]
     },
     "execution_count": 57,
     "metadata": {},
     "output_type": "execute_result"
    }
   ],
   "source": [
    "x_1, y_1"
   ]
  },
  {
   "cell_type": "code",
   "execution_count": 58,
   "id": "1236333c",
   "metadata": {
    "scrolled": true
   },
   "outputs": [
    {
     "data": {
      "image/png": "[encoded data removed]",
      "text/plain": [
       "<Figure size 432x288 with 1 Axes>"
      ]
     },
     "metadata": {
      "needs_background": "light"
     },
     "output_type": "display_data"
    },
    {
     "data": {
      "text/plain": [
       "<sympy.plotting.plot.Plot at 0x1ab4346fe20>"
      ]
     },
     "execution_count": 58,
     "metadata": {},
     "output_type": "execute_result"
    }
   ],
   "source": [
    "plot(f, (x, -5, 5))"
   ]
  },
  {
   "cell_type": "code",
   "execution_count": 59,
   "id": "6d00ba13",
   "metadata": {},
   "outputs": [
    {
     "data": {
      "text/plain": [
       "<matplotlib.collections.PathCollection at 0x1ab457e8820>"
      ]
     },
     "execution_count": 59,
     "metadata": {},
     "output_type": "execute_result"
    },
    {
     "data": {
      "image/png": "[encoded data removed]",
      "text/plain": [
       "<Figure size 504x360 with 1 Axes>"
      ]
     },
     "metadata": {
      "needs_background": "light"
     },
     "output_type": "display_data"
    }
   ],
   "source": [
    "fig, ax = plt.subplots(figsize=(7, 5))\n",
    "\n",
    "ax.scatter(x_1, y_1)"
   ]
  },
  {
   "cell_type": "code",
   "execution_count": 60,
   "id": "e924068c",
   "metadata": {},
   "outputs": [],
   "source": [
    "def print_points_ands_function(sympy_function):\n",
    "    def function(x_): return float(sympy_function.subs(x, x_))\n",
    "    \n",
    "    points_X = np.random.randint(-5, 5, size=10)\n",
    "    points_Y = np.random.randint(-5, 5, size=10)\n",
    "    plt.xlim(-6, 6)\n",
    "    plt.ylim(-6, 6)\n",
    "    \n",
    "    plt.scatter(points_X, points_Y, c='r')\n",
    "    x_range = np.linspace(plt.xlim()[0], plt.xlim()[1], num=6)\n",
    "    function_Y = [function(x_) for x_ in x_range]\n",
    "    plt.plot(x_range, function_Y, 'b')\n",
    "    plt.show()\n",
    "    \n",
    "    MSE = sum([(points_Y[i] - function(points_X[i]))**2 for i in range(len(points_Y))]) / len(points_Y)\n",
    "    print(f'MSE = {MSE}')"
   ]
  },
  {
   "cell_type": "markdown",
   "id": "a6035895",
   "metadata": {},
   "source": [
    "# exaple 2 - search MSE"
   ]
  },
  {
   "cell_type": "code",
   "execution_count": 66,
   "id": "93509d9a",
   "metadata": {},
   "outputs": [],
   "source": [
    "x_2 = np.random.randint(-10, 10, size=10)\n",
    "y_2 = np.random.randint(-3, 3, size=10)"
   ]
  },
  {
   "cell_type": "code",
   "execution_count": 69,
   "id": "1036044b",
   "metadata": {},
   "outputs": [],
   "source": [
    "a2, a1, a0 = symbols('a2, a1, a0')"
   ]
  },
  {
   "cell_type": "code",
   "execution_count": 67,
   "id": "b4a27689",
   "metadata": {},
   "outputs": [
    {
     "data": {
      "text/plain": [
       "[(-1, -2),\n",
       " (7, 0),\n",
       " (-7, 0),\n",
       " (-9, -2),\n",
       " (-7, -3),\n",
       " (6, 1),\n",
       " (4, -3),\n",
       " (-4, 1),\n",
       " (0, -1),\n",
       " (-4, 2)]"
      ]
     },
     "execution_count": 67,
     "metadata": {},
     "output_type": "execute_result"
    }
   ],
   "source": [
    "points_2 = [(i, j) for num, i in enumerate(x_2) for num_1, j in enumerate(y_2[num:num+1])]\n",
    "points_2"
   ]
  },
  {
   "cell_type": "code",
   "execution_count": 82,
   "id": "7c5675a5",
   "metadata": {},
   "outputs": [
    {
     "data": {
      "image/png": "[encoded data removed]",
      "text/latex": [
       "$\\displaystyle 5 x^{3} + 4 x^{2} + 2 x + 1$"
      ],
      "text/plain": [
       "   3      2          \n",
       "5*x  + 4*x  + 2*x + 1"
      ]
     },
     "execution_count": 82,
     "metadata": {},
     "output_type": "execute_result"
    }
   ],
   "source": [
    "f = 5*x**3 + 4*x**2 + 2*x + 1\n",
    "f"
   ]
  },
  {
   "cell_type": "code",
   "execution_count": 89,
   "id": "c70d2c01",
   "metadata": {},
   "outputs": [
    {
     "data": {
      "image/png": "[encoded data removed]",
      "text/plain": [
       "<Figure size 432x288 with 1 Axes>"
      ]
     },
     "metadata": {
      "needs_background": "light"
     },
     "output_type": "display_data"
    },
    {
     "data": {
      "text/plain": [
       "<sympy.plotting.plot.Plot at 0x1ab444d9970>"
      ]
     },
     "execution_count": 89,
     "metadata": {},
     "output_type": "execute_result"
    }
   ],
   "source": [
    "plot(f.subs(x, (x/2)).subs(x, (x - 2)))"
   ]
  },
  {
   "cell_type": "code",
   "execution_count": 79,
   "id": "069e0f0e",
   "metadata": {},
   "outputs": [
    {
     "data": {
      "text/plain": [
       "<matplotlib.collections.PathCollection at 0x1ab43c293d0>"
      ]
     },
     "execution_count": 79,
     "metadata": {},
     "output_type": "execute_result"
    },
    {
     "data": {
      "image/png": "[encoded data removed]",
      "text/plain": [
       "<Figure size 432x288 with 1 Axes>"
      ]
     },
     "metadata": {
      "needs_background": "light"
     },
     "output_type": "display_data"
    }
   ],
   "source": [
    "plt.scatter(x_2, y_2)"
   ]
  },
  {
   "cell_type": "code",
   "execution_count": 92,
   "id": "025efa2c",
   "metadata": {},
   "outputs": [
    {
     "data": {
      "text/plain": [
       "[(-1, -2), (-9, -2), (4, -3), (-4, 2)]"
      ]
     },
     "execution_count": 92,
     "metadata": {},
     "output_type": "execute_result"
    }
   ],
   "source": [
    "test_points_lst = [points_2[i] for i in range(0, len(points_2), 3)]\n",
    "test_points_lst"
   ]
  },
  {
   "cell_type": "code",
   "execution_count": 94,
   "id": "fcc7b3aa",
   "metadata": {},
   "outputs": [
    {
     "data": {
      "image/png": "[encoded data removed]",
      "text/latex": [
       "$\\displaystyle 2 x^{2} + x + 3$"
      ],
      "text/plain": [
       "   2        \n",
       "2*x  + x + 3"
      ]
     },
     "execution_count": 94,
     "metadata": {},
     "output_type": "execute_result"
    }
   ],
   "source": [
    "f = 2*x**2 + x + 3\n",
    "f"
   ]
  },
  {
   "cell_type": "code",
   "execution_count": 95,
   "id": "5ec0b1e6",
   "metadata": {},
   "outputs": [
    {
     "data": {
      "image/png": "[encoded data removed]",
      "text/latex": [
       "$\\displaystyle 4 x + 1$"
      ],
      "text/plain": [
       "4*x + 1"
      ]
     },
     "execution_count": 95,
     "metadata": {},
     "output_type": "execute_result"
    }
   ],
   "source": [
    "diff(f)"
   ]
  },
  {
   "cell_type": "markdown",
   "id": "1b4d36b6",
   "metadata": {},
   "source": [
    "# example 4 - how to calculate MSE for function with one variable"
   ]
  },
  {
   "cell_type": "code",
   "execution_count": 98,
   "id": "7e1e5f3b",
   "metadata": {},
   "outputs": [
    {
     "data": {
      "image/png": "[encoded data removed]",
      "text/latex": [
       "$\\displaystyle a_{0} + a_{1} x$"
      ],
      "text/plain": [
       "a0 + a1*x"
      ]
     },
     "execution_count": 98,
     "metadata": {},
     "output_type": "execute_result"
    }
   ],
   "source": [
    "# data (1, 3), (2, 5), (3, 7), (4, 8), (5, ?)\n",
    "\n",
    "f = a1*x + a0\n",
    "f"
   ]
  },
  {
   "cell_type": "code",
   "execution_count": 102,
   "id": "562200b4",
   "metadata": {},
   "outputs": [
    {
     "data": {
      "image/png": "[encoded data removed]",
      "text/latex": [
       "$\\displaystyle 0.333333333333333 \\left(a_{0} + a_{1} - 3\\right)^{2} + 0.333333333333333 \\left(a_{0} + 2 a_{1} - 5\\right)^{2} + 0.333333333333333 \\left(a_{0} + 3 a_{1} - 7\\right)^{2} + 0.333333333333333 \\left(a_{0} + 4 a_{1} - 8\\right)^{2}$"
      ],
      "text/plain": [
       "                               2                                    2                                    2                                    2\n",
       "0.333333333333333*(a0 + a1 - 3)  + 0.333333333333333*(a0 + 2*a1 - 5)  + 0.333333333333333*(a0 + 3*a1 - 7)  + 0.333333333333333*(a0 + 4*a1 - 8) "
      ]
     },
     "execution_count": 102,
     "metadata": {},
     "output_type": "execute_result"
    }
   ],
   "source": [
    "MSE = 1/3 * (\\\n",
    "             ((a1*1 + a0) - 3)**2 +\\\n",
    "             ((a1*2 + a0) - 5)**2 +\\\n",
    "             ((a1*3 + a0) - 7)**2 +\\\n",
    "             ((a1*4 + a0) - 8)**2\n",
    "            )\n",
    "MSE"
   ]
  },
  {
   "cell_type": "code",
   "execution_count": 103,
   "id": "fc954819",
   "metadata": {},
   "outputs": [],
   "source": [
    "# calculate private derivative for MSEa1, MSEa0\n",
    "\n",
    "MSEa1 = diff(MSE, a1)\n",
    "MSEa0 = diff(MSE, a0)"
   ]
  },
  {
   "cell_type": "code",
   "execution_count": 105,
   "id": "f657437e",
   "metadata": {},
   "outputs": [
    {
     "data": {
      "image/png": "[encoded data removed]",
      "text/latex": [
       "$\\displaystyle \\left\\{\\left( 1.7, \\  1.5\\right)\\right\\}$"
      ],
      "text/plain": [
       "{(1.7, 1.5)}"
      ]
     },
     "execution_count": 105,
     "metadata": {},
     "output_type": "execute_result"
    }
   ],
   "source": [
    "# find coefficient\n",
    "\n",
    "nonlinsolve([MSEa1, MSEa0], [a1, a0])"
   ]
  },
  {
   "cell_type": "code",
   "execution_count": 106,
   "id": "ceb88d79",
   "metadata": {},
   "outputs": [
    {
     "data": {
      "image/png": "[encoded data removed]",
      "text/latex": [
       "$\\displaystyle 0.1$"
      ],
      "text/plain": [
       "0.100000000000000"
      ]
     },
     "execution_count": 106,
     "metadata": {},
     "output_type": "execute_result"
    }
   ],
   "source": [
    "# check MSE\n",
    "\n",
    "MSE.subs({a1: 1.7, a0: 1.5})"
   ]
  },
  {
   "cell_type": "code",
   "execution_count": 107,
   "id": "191af8bf",
   "metadata": {},
   "outputs": [
    {
     "data": {
      "image/png": "[encoded data removed]",
      "text/latex": [
       "$\\displaystyle 115.7$"
      ],
      "text/plain": [
       "115.700000000000"
      ]
     },
     "execution_count": 107,
     "metadata": {},
     "output_type": "execute_result"
    }
   ],
   "source": [
    "MSE.subs({a1: -1.7, a0: 1.5})"
   ]
  },
  {
   "cell_type": "code",
   "execution_count": 109,
   "id": "b0df759b",
   "metadata": {},
   "outputs": [
    {
     "data": {
      "image/png": "[encoded data removed]",
      "text/latex": [
       "$\\displaystyle 1.7 x + 1.5$"
      ],
      "text/plain": [
       "1.7*x + 1.5"
      ]
     },
     "execution_count": 109,
     "metadata": {},
     "output_type": "execute_result"
    }
   ],
   "source": [
    "f = 1.7*x + 1.5\n",
    "f"
   ]
  },
  {
   "cell_type": "code",
   "execution_count": 111,
   "id": "b4f6c3e6",
   "metadata": {},
   "outputs": [
    {
     "data": {
      "image/png": "[encoded data removed]",
      "text/latex": [
       "$\\displaystyle 10.0$"
      ],
      "text/plain": [
       "10.0"
      ]
     },
     "execution_count": 111,
     "metadata": {},
     "output_type": "execute_result"
    }
   ],
   "source": [
    "predict = 1.7*5 + 1.5\n",
    "predict"
   ]
  },
  {
   "cell_type": "code",
   "execution_count": 112,
   "id": "e4afbf2f",
   "metadata": {},
   "outputs": [
    {
     "data": {
      "image/png": "[encoded data removed]",
      "text/plain": [
       "<Figure size 432x288 with 1 Axes>"
      ]
     },
     "metadata": {
      "needs_background": "light"
     },
     "output_type": "display_data"
    },
    {
     "data": {
      "text/plain": [
       "<sympy.plotting.plot.Plot at 0x1ab4840a580>"
      ]
     },
     "execution_count": 112,
     "metadata": {},
     "output_type": "execute_result"
    }
   ],
   "source": [
    "plot(f)"
   ]
  }
 ],
 "metadata": {
  "kernelspec": {
   "display_name": "Python 3 (ipykernel)",
   "language": "python",
   "name": "python3"
  },
  "language_info": {
   "codemirror_mode": {
    "name": "ipython",
    "version": 3
   },
   "file_extension": ".py",
   "mimetype": "text/x-python",
   "name": "python",
   "nbconvert_exporter": "python",
   "pygments_lexer": "ipython3",
   "version": "3.9.7"
  },
  "toc": {
   "base_numbering": 1,
   "nav_menu": {},
   "number_sections": true,
   "sideBar": true,
   "skip_h1_title": false,
   "title_cell": "Table of Contents",
   "title_sidebar": "Contents",
   "toc_cell": false,
   "toc_position": {},
   "toc_section_display": true,
   "toc_window_display": false
  }
 },
 "nbformat": 4,
 "nbformat_minor": 5
}
