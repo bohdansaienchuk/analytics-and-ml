{
 "cells": [
  {
   "cell_type": "code",
   "execution_count": 1,
   "metadata": {
    "id": "wEP34qLTbF7d"
   },
   "outputs": [],
   "source": [
    "from sympy import *\n",
    "from sympy.plotting import plot3d\n",
    "init_printing(use_unicode=False, wrap_line=False, no_global=True)"
   ]
  },
  {
   "cell_type": "code",
   "execution_count": 2,
   "metadata": {
    "id": "9enxQ0AebF7g"
   },
   "outputs": [],
   "source": [
    "a2, a1, a0 = symbols('a2, a1, a0')"
   ]
  },
  {
   "cell_type": "code",
   "execution_count": 3,
   "metadata": {
    "id": "n2YCBm8zbF7j",
    "outputId": "260e5cb6-ad30-42db-97e2-b85f1b49866c"
   },
   "outputs": [
    {
     "data": {
      "image/png": "[encoded data removed]",
      "text/latex": [
       "$\\displaystyle 0.333333333333333 \\left(a_{0} + 200 a_{1} + 2 a_{2} - 200\\right)^{2} + 0.333333333333333 \\left(a_{0} + 450 a_{1} + a_{2} - 300\\right)^{2} + 0.333333333333333 \\left(a_{0} + 550 a_{1} + 3 a_{2} - 600\\right)^{2}$"
      ],
      "text/plain": [
       "                                            2                                             2                                               2\n",
       "0.333333333333333*(a0 + 200*a1 + 2*a2 - 200)  + 0.333333333333333*(a0 + 450*a1 + a2 - 300)  + 0.333333333333333*(a0 + 550*a1 + 3*a2 - 600) "
      ]
     },
     "execution_count": 3,
     "metadata": {},
     "output_type": "execute_result"
    }
   ],
   "source": [
    "MSE = 1/3 * (((a2 * 2 + a1 * 200 + a0) - 200)**2 + \\\n",
    "             ((a2 * 1 + a1 * 450 + a0) - 300)**2 + \\\n",
    "             ((a2 * 3 + a1 * 550 + a0) - 600)**2)\n",
    "MSE"
   ]
  },
  {
   "cell_type": "code",
   "execution_count": 4,
   "metadata": {
    "id": "PK4M0YXLbF7m",
    "outputId": "d2f24a01-f3fb-4d5e-c679-a38d26a82f5f"
   },
   "outputs": [
    {
     "data": {
      "image/png": "[encoded data removed]",
      "text/latex": [
       "$\\displaystyle \\left\\{ a_{0} : 3, \\  a_{1} : 2, \\  a_{2} : 1\\right\\}$"
      ],
      "text/plain": [
       "{a0: 3, a1: 2, a2: 1}"
      ]
     },
     "execution_count": 4,
     "metadata": {},
     "output_type": "execute_result"
    }
   ],
   "source": [
    "{a2: 1, a1: 2, a0: 3}"
   ]
  },
  {
   "cell_type": "code",
   "execution_count": 5,
   "metadata": {
    "id": "WR3AT30SbF7o"
   },
   "outputs": [],
   "source": [
    "# f1 = 100 * x2 - 1 * x1 - 100\n",
    "# f2 = 200 * x2 + 3 * x1 + 20"
   ]
  },
  {
   "cell_type": "code",
   "execution_count": 6,
   "metadata": {
    "id": "G-gOpvaNbF7r",
    "outputId": "a953c8b7-629d-4599-9126-15e7d5ec9d94"
   },
   "outputs": [
    {
     "data": {
      "image/png": "[encoded data removed]",
      "text/latex": [
       "$\\displaystyle 518333.333333333$"
      ],
      "text/plain": [
       "518333.333333333"
      ]
     },
     "execution_count": 6,
     "metadata": {},
     "output_type": "execute_result"
    }
   ],
   "source": [
    "MSE.subs({a2: 100, a1: -1, a0: -100})"
   ]
  },
  {
   "cell_type": "code",
   "execution_count": 7,
   "metadata": {
    "id": "RR_ty5_YbF7t",
    "outputId": "1e047512-6935-48dc-e812-c3131f62cd44",
    "scrolled": true
   },
   "outputs": [
    {
     "data": {
      "image/png": "[encoded data removed]",
      "text/latex": [
       "$\\displaystyle 1691400.0$"
      ],
      "text/plain": [
       "1691400.00000000"
      ]
     },
     "execution_count": 7,
     "metadata": {},
     "output_type": "execute_result"
    }
   ],
   "source": [
    "MSE.subs({a2: 200, a1: 3, a0: 20})"
   ]
  },
  {
   "cell_type": "markdown",
   "metadata": {},
   "source": [
    "Объекты: (10, 30), (-5, 15), (16, 31) <br>\n",
    "Целевые значения: 7, 20, -4 <br>\n",
    "Функции-кандидаты: $f_1=-2x_2+x_1-7; f_2=20x_2+〖3x〗_1-4$ <br>\n"
   ]
  },
  {
   "cell_type": "code",
   "execution_count": 9,
   "metadata": {},
   "outputs": [
    {
     "data": {
      "image/png": "[encoded data removed]",
      "text/latex": [
       "$\\displaystyle 0.333333333333333 a_{0} + 10.3333333333333 a_{1} + 5.33333333333333 a_{2} + 0.333333333333333 \\left(a_{0} + 15 a_{1} - 5 a_{2} - 20\\right)^{2} + 0.333333333333333 \\left(a_{0} + 30 a_{1} + 10 a_{2} - 7\\right)^{2} - 5.33333333333333$"
      ],
      "text/plain": [
       "                                                                                                             2                                             2                   \n",
       "0.333333333333333*a0 + 10.3333333333333*a1 + 5.33333333333333*a2 + 0.333333333333333*(a0 + 15*a1 - 5*a2 - 20)  + 0.333333333333333*(a0 + 30*a1 + 10*a2 - 7)  - 5.33333333333333"
      ]
     },
     "execution_count": 9,
     "metadata": {},
     "output_type": "execute_result"
    }
   ],
   "source": [
    "# MSE calculation\n",
    "MSE = 1/3 * (\n",
    "    ((a2*10 + a1*30 + a0) - 7)**2 + \\\n",
    "    ((a2*(-5) + a1*15 + a0) - 20)**2 + \\\n",
    "    ((a2*16 + a1*31 + a0) - (-4)**2)\n",
    "            )\n",
    "MSE"
   ]
  },
  {
   "cell_type": "code",
   "execution_count": 10,
   "metadata": {},
   "outputs": [
    {
     "data": {
      "image/png": "[encoded data removed]",
      "text/latex": [
       "$\\displaystyle -1.33333333333333$"
      ],
      "text/plain": [
       "-1.33333333333333"
      ]
     },
     "execution_count": 10,
     "metadata": {},
     "output_type": "execute_result"
    }
   ],
   "source": [
    "MSE.subs({a2: -2, a1: 1, a0: -7})"
   ]
  },
  {
   "cell_type": "code",
   "execution_count": 11,
   "metadata": {},
   "outputs": [
    {
     "data": {
      "image/png": "[encoded data removed]",
      "text/latex": [
       "$\\displaystyle 28158.3333333333$"
      ],
      "text/plain": [
       "28158.3333333333"
      ]
     },
     "execution_count": 11,
     "metadata": {},
     "output_type": "execute_result"
    }
   ],
   "source": [
    "MSE.subs({a2: 20, a1: 3, a0: -4})"
   ]
  }
 ],
 "metadata": {
  "colab": {
   "name": "8.2 Задача аппроксимации функцией многих переменных.ipynb",
   "provenance": []
  },
  "kernelspec": {
   "display_name": "Python 3 (ipykernel)",
   "language": "python",
   "name": "python3"
  },
  "language_info": {
   "codemirror_mode": {
    "name": "ipython",
    "version": 3
   },
   "file_extension": ".py",
   "mimetype": "text/x-python",
   "name": "python",
   "nbconvert_exporter": "python",
   "pygments_lexer": "ipython3",
   "version": "3.9.7"
  },
  "toc": {
   "base_numbering": 1,
   "nav_menu": {},
   "number_sections": true,
   "sideBar": true,
   "skip_h1_title": false,
   "title_cell": "Table of Contents",
   "title_sidebar": "Contents",
   "toc_cell": false,
   "toc_position": {},
   "toc_section_display": true,
   "toc_window_display": false
  }
 },
 "nbformat": 4,
 "nbformat_minor": 1
}
