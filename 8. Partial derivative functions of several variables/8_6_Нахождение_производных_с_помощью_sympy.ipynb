{
 "cells": [
  {
   "cell_type": "code",
   "execution_count": 1,
   "metadata": {
    "id": "5ZFl33wuQelS"
   },
   "outputs": [],
   "source": [
    "from sympy import *"
   ]
  },
  {
   "cell_type": "code",
   "execution_count": 2,
   "metadata": {
    "id": "nHjvcendQelZ"
   },
   "outputs": [],
   "source": [
    "x = Symbol('x')"
   ]
  },
  {
   "cell_type": "code",
   "execution_count": 3,
   "metadata": {
    "colab": {
     "base_uri": "https://localhost:8080/",
     "height": 34
    },
    "id": "INcuPY52Qele",
    "outputId": "08c01d45-86f1-4180-bf3b-57efa34926ac"
   },
   "outputs": [
    {
     "data": {
      "text/latex": [
       "$\\displaystyle \\frac{e^{x} - e^{- x}}{e^{x} + e^{- x}}$"
      ],
      "text/plain": [
       "(exp(x) - exp(-x))/(exp(x) + exp(-x))"
      ]
     },
     "execution_count": 3,
     "metadata": {},
     "output_type": "execute_result"
    }
   ],
   "source": [
    "th = (exp(x) - exp(-x)) / (exp(x) + exp(-x))\n",
    "th"
   ]
  },
  {
   "cell_type": "code",
   "execution_count": 4,
   "metadata": {
    "colab": {
     "base_uri": "https://localhost:8080/",
     "height": 34
    },
    "id": "dEUCC4z2Qelj",
    "outputId": "a78347e5-f600-436c-8fc1-2bb6deb59661"
   },
   "outputs": [
    {
     "data": {
      "text/latex": [
       "$\\displaystyle \\frac{\\left(- e^{x} + e^{- x}\\right) \\left(e^{x} - e^{- x}\\right)}{\\left(e^{x} + e^{- x}\\right)^{2}} + 1$"
      ],
      "text/plain": [
       "(-exp(x) + exp(-x))*(exp(x) - exp(-x))/(exp(x) + exp(-x))**2 + 1"
      ]
     },
     "execution_count": 4,
     "metadata": {},
     "output_type": "execute_result"
    }
   ],
   "source": [
    "diff(th)"
   ]
  },
  {
   "cell_type": "code",
   "execution_count": 5,
   "metadata": {
    "colab": {
     "base_uri": "https://localhost:8080/",
     "height": 34
    },
    "id": "GrPbP-ucQelo",
    "outputId": "8e254226-5f97-43bc-ae5a-75567962aff3"
   },
   "outputs": [
    {
     "data": {
      "text/latex": [
       "$\\displaystyle \\tanh{\\left(x \\right)}$"
      ],
      "text/plain": [
       "tanh(x)"
      ]
     },
     "execution_count": 5,
     "metadata": {},
     "output_type": "execute_result"
    }
   ],
   "source": [
    "tanh(x)"
   ]
  },
  {
   "cell_type": "code",
   "execution_count": 6,
   "metadata": {
    "colab": {
     "base_uri": "https://localhost:8080/",
     "height": 34
    },
    "id": "xm3dSGC6Qelt",
    "outputId": "29169e15-cc4b-44a1-a046-6a119f0c88a8"
   },
   "outputs": [
    {
     "data": {
      "text/latex": [
       "$\\displaystyle 1 - \\tanh^{2}{\\left(x \\right)}$"
      ],
      "text/plain": [
       "1 - tanh(x)**2"
      ]
     },
     "execution_count": 6,
     "metadata": {},
     "output_type": "execute_result"
    }
   ],
   "source": [
    "diff(tanh(x))"
   ]
  },
  {
   "cell_type": "code",
   "execution_count": 7,
   "metadata": {
    "id": "6qUku1JTQelx"
   },
   "outputs": [],
   "source": [
    "a2, a1, a0 = symbols('a2, a1, a0')"
   ]
  },
  {
   "cell_type": "code",
   "execution_count": 8,
   "metadata": {
    "id": "xnB7cAiLQel2",
    "outputId": "549c2116-cc8d-4510-e762-804346d67802"
   },
   "outputs": [
    {
     "data": {
      "text/latex": [
       "$\\displaystyle 0.333333333333333 \\left(a_{0} + 200 a_{1} + 2 a_{2} - 200\\right)^{2} + 0.333333333333333 \\left(a_{0} + 450 a_{1} + a_{2} - 300\\right)^{2} + 0.333333333333333 \\left(a_{0} + 550 a_{1} + 3 a_{2} - 600\\right)^{2}$"
      ],
      "text/plain": [
       "0.333333333333333*(a0 + 200*a1 + 2*a2 - 200)**2 + 0.333333333333333*(a0 + 450*a1 + a2 - 300)**2 + 0.333333333333333*(a0 + 550*a1 + 3*a2 - 600)**2"
      ]
     },
     "execution_count": 8,
     "metadata": {},
     "output_type": "execute_result"
    }
   ],
   "source": [
    "MSE = 1/3 * (((a2 * 2 + a1 * 200 + a0) - 200)**2 + \\\n",
    "             ((a2 * 1 + a1 * 450 + a0) - 300)**2 + \\\n",
    "             ((a2 * 3 + a1 * 550 + a0) - 600)**2)\n",
    "MSE"
   ]
  },
  {
   "cell_type": "code",
   "execution_count": 9,
   "metadata": {
    "id": "5_2OMlHWQel6"
   },
   "outputs": [],
   "source": [
    "MSEa2 = 1/3 * (28 * a2 + 5000 * a1 + 12 * a0 - 5000)\n",
    "MSEa1 = 1/3 * (5000 * a2 + 1090000 * a1 + 2400 * a0 - 1010000)\n",
    "MSEa0 = 1/3 * (12 * a2 + 2400 * a1 + 6 * a0 - 2200)"
   ]
  },
  {
   "cell_type": "code",
   "execution_count": 10,
   "metadata": {
    "id": "2coBoLUKQel8",
    "outputId": "24a694b1-0b97-49d8-bf21-5d234c2b5365"
   },
   "outputs": [
    {
     "data": {
      "text/latex": [
       "$\\displaystyle 4.0 a_{0} + 1666.66666666667 a_{1} + 9.33333333333333 a_{2} - 1666.66666666667$"
      ],
      "text/plain": [
       "4.0*a0 + 1666.66666666667*a1 + 9.33333333333333*a2 - 1666.66666666667"
      ]
     },
     "execution_count": 10,
     "metadata": {},
     "output_type": "execute_result"
    }
   ],
   "source": [
    "diff(MSE, a2)"
   ]
  },
  {
   "cell_type": "code",
   "execution_count": 11,
   "metadata": {
    "id": "OOFszVy2Qel_",
    "outputId": "cd37d904-f92e-405c-8384-3cc4e9c5439d"
   },
   "outputs": [
    {
     "data": {
      "text/latex": [
       "$\\displaystyle 4.0 a_{0} + 1666.66666666667 a_{1} + 9.33333333333333 a_{2} - 1666.66666666667$"
      ],
      "text/plain": [
       "4.0*a0 + 1666.66666666667*a1 + 9.33333333333333*a2 - 1666.66666666667"
      ]
     },
     "execution_count": 11,
     "metadata": {},
     "output_type": "execute_result"
    }
   ],
   "source": [
    "MSEa2"
   ]
  },
  {
   "cell_type": "code",
   "execution_count": 12,
   "metadata": {
    "id": "IaW-jePzQemC",
    "outputId": "b164abc7-c898-406c-89e3-53f5fb42f0ee"
   },
   "outputs": [
    {
     "data": {
      "text/latex": [
       "$\\displaystyle 800.0 a_{0} + 363333.333333333 a_{1} + 1666.66666666667 a_{2} - 336666.666666667$"
      ],
      "text/plain": [
       "800.0*a0 + 363333.333333333*a1 + 1666.66666666667*a2 - 336666.666666667"
      ]
     },
     "execution_count": 12,
     "metadata": {},
     "output_type": "execute_result"
    }
   ],
   "source": [
    "diff(MSE, a1)"
   ]
  },
  {
   "cell_type": "code",
   "execution_count": 13,
   "metadata": {
    "id": "H_n_LHg_QemE",
    "outputId": "e06074d3-15b1-4a29-983e-129d530242b9"
   },
   "outputs": [
    {
     "data": {
      "text/latex": [
       "$\\displaystyle 800.0 a_{0} + 363333.333333333 a_{1} + 1666.66666666667 a_{2} - 336666.666666667$"
      ],
      "text/plain": [
       "800.0*a0 + 363333.333333333*a1 + 1666.66666666667*a2 - 336666.666666667"
      ]
     },
     "execution_count": 13,
     "metadata": {},
     "output_type": "execute_result"
    }
   ],
   "source": [
    "MSEa1"
   ]
  },
  {
   "cell_type": "code",
   "execution_count": 16,
   "metadata": {},
   "outputs": [],
   "source": [
    "MSEa2 = diff(MSE, a2)\n",
    "MSEa1 = diff(MSE, a1)\n",
    "MSEa0 = diff(MSE, a0)"
   ]
  },
  {
   "cell_type": "code",
   "execution_count": 17,
   "metadata": {},
   "outputs": [
    {
     "data": {
      "text/latex": [
       "$\\displaystyle \\left\\{\\left( 108.333333333333, \\  0.833333333333335, \\  -183.333333333334\\right)\\right\\}$"
      ],
      "text/plain": [
       "{(108.333333333333, 0.833333333333335, -183.333333333334)}"
      ]
     },
     "execution_count": 17,
     "metadata": {},
     "output_type": "execute_result"
    }
   ],
   "source": [
    "nonlinsolve([MSEa2, MSEa1, MSEa0], [a2, a1, a0])"
   ]
  },
  {
   "cell_type": "code",
   "execution_count": 21,
   "metadata": {},
   "outputs": [
    {
     "data": {
      "text/latex": [
       "$\\displaystyle 4.5953259118989 \\cdot 10^{-25}$"
      ],
      "text/plain": [
       "4.59532591189890e-25"
      ]
     },
     "execution_count": 21,
     "metadata": {},
     "output_type": "execute_result"
    }
   ],
   "source": [
    "MSE.subs({a2: 108.333333333333, a1: 0.833333333333335, a0: (-183.333333333334)})"
   ]
  }
 ],
 "metadata": {
  "colab": {
   "name": "8.6 Нахождение производных с помощью sympy.ipynb",
   "provenance": []
  },
  "kernelspec": {
   "display_name": "Python 3 (ipykernel)",
   "language": "python",
   "name": "python3"
  },
  "language_info": {
   "codemirror_mode": {
    "name": "ipython",
    "version": 3
   },
   "file_extension": ".py",
   "mimetype": "text/x-python",
   "name": "python",
   "nbconvert_exporter": "python",
   "pygments_lexer": "ipython3",
   "version": "3.9.7"
  },
  "toc": {
   "base_numbering": 1,
   "nav_menu": {},
   "number_sections": true,
   "sideBar": true,
   "skip_h1_title": false,
   "title_cell": "Table of Contents",
   "title_sidebar": "Contents",
   "toc_cell": false,
   "toc_position": {},
   "toc_section_display": true,
   "toc_window_display": false
  }
 },
 "nbformat": 4,
 "nbformat_minor": 1
}
