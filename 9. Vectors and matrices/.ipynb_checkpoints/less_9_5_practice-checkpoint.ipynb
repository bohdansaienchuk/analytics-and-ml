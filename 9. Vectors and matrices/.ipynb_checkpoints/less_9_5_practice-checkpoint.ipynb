{
 "cells": [
  {
   "cell_type": "code",
   "execution_count": 2,
   "id": "5b59737c",
   "metadata": {},
   "outputs": [],
   "source": [
    "from sympy import *\n",
    "from sympy.plotting import plot\n",
    "from sympy.plotting import plot3d\n",
    "from sympy.solvers.inequalities import solve_univariate_inequality\n",
    "\n",
    "init_printing(use_unicode=False, wrap_line=False, no_global=True)"
   ]
  },
  {
   "cell_type": "code",
   "execution_count": 1,
   "id": "bcc1ad53",
   "metadata": {},
   "outputs": [],
   "source": [
    "# point (0.57 0.91) MSE = 8.56"
   ]
  },
  {
   "cell_type": "code",
   "execution_count": 3,
   "id": "b71faaf4",
   "metadata": {},
   "outputs": [],
   "source": [
    "a2, a1 = symbols('a2, a1')"
   ]
  },
  {
   "cell_type": "code",
   "execution_count": 4,
   "id": "88dfbe08",
   "metadata": {},
   "outputs": [],
   "source": [
    "MSE = 1/4 * ((a1*1 + a2*2 - 5)**2 + \\\n",
    "             (a1*5 + a2*3 - 6)**2 + \\\n",
    "             (a1*2 + a2*4 - 10)**2 + \\\n",
    "             (a1*3 + a2*7 - 8)**2\n",
    "            )"
   ]
  },
  {
   "cell_type": "code",
   "execution_count": 5,
   "id": "01c57ce5",
   "metadata": {},
   "outputs": [
    {
     "data": {
      "image/png": "[encoded data removed]",
      "text/latex": [
       "$\\displaystyle 0.25 \\left(a_{1} + 2 a_{2} - 5\\right)^{2} + 0.25 \\left(2 a_{1} + 4 a_{2} - 10\\right)^{2} + 0.25 \\left(3 a_{1} + 7 a_{2} - 8\\right)^{2} + 0.25 \\left(5 a_{1} + 3 a_{2} - 6\\right)^{2}$"
      ],
      "text/plain": [
       "                    2                          2                         2                         2\n",
       "0.25*(a1 + 2*a2 - 5)  + 0.25*(2*a1 + 4*a2 - 10)  + 0.25*(3*a1 + 7*a2 - 8)  + 0.25*(5*a1 + 3*a2 - 6) "
      ]
     },
     "execution_count": 5,
     "metadata": {},
     "output_type": "execute_result"
    }
   ],
   "source": [
    "MSE"
   ]
  },
  {
   "cell_type": "code",
   "execution_count": 7,
   "id": "d6f20cb3",
   "metadata": {},
   "outputs": [],
   "source": [
    "# step 1 - find vektor for points 0.57 and 0.91 (fit points in MSE private derivatives)\n",
    "\n",
    "point_1, point_2 = (19.5*0.57 + 23*0.91 - 39.5), (23*0.57 + 39*0.91 - 62)"
   ]
  },
  {
   "cell_type": "code",
   "execution_count": 8,
   "id": "1a882904",
   "metadata": {},
   "outputs": [
    {
     "data": {
      "image/png": "[encoded data removed]",
      "text/latex": [
       "$\\displaystyle \\left( -7.455, \\  -13.4\\right)$"
      ],
      "text/plain": [
       "(-7.454999999999998, -13.399999999999999)"
      ]
     },
     "execution_count": 8,
     "metadata": {},
     "output_type": "execute_result"
    }
   ],
   "source": [
    "# multiply points by -1 for get anti-gradient\n",
    "\n",
    "point_1, point_2"
   ]
  },
  {
   "cell_type": "code",
   "execution_count": 10,
   "id": "00c99b58",
   "metadata": {},
   "outputs": [
    {
     "data": {
      "image/png": "[encoded data removed]",
      "text/latex": [
       "$\\displaystyle \\left( 0.07455, \\  0.134\\right)$"
      ],
      "text/plain": [
       "(0.07454999999999999, 0.13399999999999998)"
      ]
     },
     "execution_count": 10,
     "metadata": {},
     "output_type": "execute_result"
    }
   ],
   "source": [
    "# multiply by 0.01 (anti-gradient step) and get anti-gradient\n",
    "\n",
    "point_1, point_2 = point_1 * -1 * 0.01, point_2 * -1 * 0.01\n",
    "point_1, point_2"
   ]
  },
  {
   "cell_type": "code",
   "execution_count": 11,
   "id": "db30121d",
   "metadata": {},
   "outputs": [
    {
     "data": {
      "image/png": "[encoded data removed]",
      "text/latex": [
       "$\\displaystyle \\left( 0.64455, \\  1.044\\right)$"
      ],
      "text/plain": [
       "(0.64455, 1.044)"
      ]
     },
     "execution_count": 11,
     "metadata": {},
     "output_type": "execute_result"
    }
   ],
   "source": [
    "# add results to first points\n",
    "point_1, point_2 = point_1 + 0.57, point_2 + 0.91\n",
    "point_1, point_2"
   ]
  },
  {
   "cell_type": "code",
   "execution_count": 12,
   "id": "8f844db8",
   "metadata": {},
   "outputs": [
    {
     "data": {
      "image/png": "[encoded data removed]",
      "text/latex": [
       "$\\displaystyle 6.843547449375$"
      ],
      "text/plain": [
       "6.84354744937500"
      ]
     },
     "execution_count": 12,
     "metadata": {},
     "output_type": "execute_result"
    }
   ],
   "source": [
    "# check MSE\n",
    "MSE.subs({a1: 0.64455, a2: 1.044})"
   ]
  }
 ],
 "metadata": {
  "kernelspec": {
   "display_name": "Python 3 (ipykernel)",
   "language": "python",
   "name": "python3"
  },
  "language_info": {
   "codemirror_mode": {
    "name": "ipython",
    "version": 3
   },
   "file_extension": ".py",
   "mimetype": "text/x-python",
   "name": "python",
   "nbconvert_exporter": "python",
   "pygments_lexer": "ipython3",
   "version": "3.9.7"
  },
  "toc": {
   "base_numbering": 1,
   "nav_menu": {},
   "number_sections": true,
   "sideBar": true,
   "skip_h1_title": false,
   "title_cell": "Table of Contents",
   "title_sidebar": "Contents",
   "toc_cell": false,
   "toc_position": {},
   "toc_section_display": true,
   "toc_window_display": false
  }
 },
 "nbformat": 4,
 "nbformat_minor": 5
}
