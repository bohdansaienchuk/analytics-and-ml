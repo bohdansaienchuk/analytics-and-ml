{
 "cells": [
  {
   "cell_type": "markdown",
   "id": "4004fbca",
   "metadata": {},
   "source": [
    "# Задание 1. Скалярное произведение векторов \n",
    "Что нужно сделать<br>\n",
    "Вычислите значения выражений:<br>\n",
    "\n",
    "3 × (2 5 0 6 8 10 6 7 5 7) · 2 × (8 6 7 9 6 6 2 3 2 3)<br>\n",
    "6 × (9 6 7 7 0 1 6 8 1 2) · 5 × (0 2 2 6 7 8 8 3 1 8)<br>\n",
    "(2 5 0 6 8 10 6 7 5 7) · (8 6 7 9 6 6 2 3 2 3)<br>\n",
    "(9 6 7 7 0 1 6 8 1 2) · (0 2 2 6 7 8 8 3 1 8)"
   ]
  },
  {
   "cell_type": "code",
   "execution_count": 96,
   "id": "e3599732",
   "metadata": {},
   "outputs": [],
   "source": [
    "# # import necessary libraries\n",
    "\n",
    "# import numpy as np\n",
    "# import pandas as pd\n",
    "\n",
    "# from sympy import *\n",
    "# from sympy.solvers.inequalities import solve_univariate_inequality\n",
    "\n",
    "# init_printing(use_unicode=False, wrap_line=False, no_global=True)"
   ]
  },
  {
   "cell_type": "code",
   "execution_count": 92,
   "id": "c95ee089",
   "metadata": {},
   "outputs": [],
   "source": [
    "# # create data list\n",
    "\n",
    "# data = ['3 × (2 5 0 6 8 10 6 7 5 7) · 2 × (8 6 7 9 6 6 2 3 2 3)',\n",
    "#         '6 × (9 6 7 7 0  1 6 8 1 2) · 5 × (0 2 2 6 7 8 8 3 1 8)',\n",
    "#         '(2 5 0 6 8 10 6 7 5 7) · (8 6 7 9 6 6 2 3 2 3)',\n",
    "#         '(9 6 7 7 0 1  6 8 1 2) · (0 2 2 6 7 8 8 3 1 8)']"
   ]
  },
  {
   "cell_type": "code",
   "execution_count": 87,
   "id": "535cf2fe",
   "metadata": {},
   "outputs": [],
   "source": [
    "# # create lists creation function\n",
    "\n",
    "# def values_creator_with_factor(string):                                         # create function for suitable transformation\n",
    "    \n",
    "#     end_fst_str = len(string)//2 - 1                                            # find slices borders\n",
    "#     start_snd_str = len(string)//2 + 1\n",
    "    \n",
    "#     fst_lst = [int(i) for i in string[5:end_fst_str-1:].split()]                # create values list for first sequence\n",
    "#     snd_lst = [int(i) for i in string[start_snd_str+6:len(string)-1:].split()]  # create values list for second sequence\n",
    "    \n",
    "#     fst_factor = int(string[0])\n",
    "#     snd_factor = int(string[len(string)//2+2])\n",
    "    \n",
    "#     return fst_factor, fst_lst, snd_factor, snd_lst"
   ]
  },
  {
   "cell_type": "code",
   "execution_count": 61,
   "id": "5eb4e36f",
   "metadata": {},
   "outputs": [],
   "source": [
    "# # create vektor calculation function\n",
    "\n",
    "# def vektor_calculation_with_faktor(values):\n",
    "    \n",
    "#     result = [str(elem*elem_1)\n",
    "#               for i, elem in enumerate([values[0]*num for num in values[1]])\n",
    "#               for j, elem_1 in enumerate([values[2]*num_1 for num_1 in values[3]][i:i+1:])\n",
    "#              ]\n",
    "    \n",
    "#     print(f\"({' '.join(result)})\")"
   ]
  },
  {
   "cell_type": "code",
   "execution_count": 59,
   "id": "c9ec0c29",
   "metadata": {},
   "outputs": [],
   "source": [
    "# # create lists creation function without faktors\n",
    "\n",
    "# def values_creator(string):                                                     # create function for suitable transformation\n",
    "    \n",
    "#     end_fst_str = len(string)//2 - 1                                            # find slices borders\n",
    "#     start_snd_str = len(string)//2 + 1\n",
    "    \n",
    "#     fst_lst = [int(i) for i in string[1:end_fst_str-1:].split()]                # create values list for first sequence\n",
    "#     snd_lst = [int(i) for i in string[start_snd_str+2:len(string)-1:].split()]  # create values list for second sequence\n",
    "    \n",
    "#     return fst_lst, snd_lst"
   ]
  },
  {
   "cell_type": "code",
   "execution_count": 64,
   "id": "d3836e5d",
   "metadata": {},
   "outputs": [],
   "source": [
    "# # create vektor calculation function without faktors\n",
    "\n",
    "# def vektor_calculation(values):\n",
    "    \n",
    "#     result = [str(elem*elem_1)\n",
    "#               for i, elem in enumerate([num for num in values[0]])\n",
    "#               for j, elem_1 in enumerate(num_1 for num_1 in values[1][i:i+1:])\n",
    "#              ]   \n",
    "#     print(f\"({' '.join(result)})\")"
   ]
  },
  {
   "cell_type": "code",
   "execution_count": 95,
   "id": "864b430a",
   "metadata": {},
   "outputs": [
    {
     "name": "stdout",
     "output_type": "stream",
     "text": [
      "(96 180 0 324 288 360 72 126 60 126)\n",
      "(0 360 420 1260 0 240 1440 720 30 480)\n",
      "(16 30 0 54 48 60 12 21 10 21)\n",
      "(0 12 14 42 0 8 48 24 1 16)\n"
     ]
    }
   ],
   "source": [
    "# # all vektors calculation\n",
    "\n",
    "# for num, elem in enumerate(data):\n",
    "#     if num <=1:\n",
    "#         vektor_calculation_with_faktor(values_creator_with_factor(elem))\n",
    "#     else:\n",
    "#         vektor_calculation(values_creator(elem))"
   ]
  },
  {
   "cell_type": "code",
   "execution_count": 196,
   "id": "95815934",
   "metadata": {},
   "outputs": [],
   "source": [
    "# other solution\n",
    "\n",
    "def scal (v1, v2):\n",
    "  to_ret = 0\n",
    "  for v1i, v2i in zip(v1, v2):\n",
    "    to_ret += v1i*v2i\n",
    "  return to_ret"
   ]
  },
  {
   "cell_type": "code",
   "execution_count": 197,
   "id": "45d0c393",
   "metadata": {},
   "outputs": [
    {
     "name": "stdout",
     "output_type": "stream",
     "text": [
      "1632\n"
     ]
    }
   ],
   "source": [
    "# first vektor\n",
    "\n",
    "a1 = [2, 5, 0, 6, 8, 10, 6, 7, 5, 7]\n",
    "b1 = [8, 6, 7, 9, 6, 6, 2, 3, 2, 3]\n",
    "\n",
    "print(3*2*scal(a1, b1))"
   ]
  },
  {
   "cell_type": "code",
   "execution_count": 201,
   "id": "28122a0f",
   "metadata": {},
   "outputs": [
    {
     "name": "stdout",
     "output_type": "stream",
     "text": [
      "4950\n"
     ]
    }
   ],
   "source": [
    "# second vektor\n",
    "\n",
    "a1 = [9, 6, 7, 7, 0, 1, 6, 8, 1, 2] \n",
    "b1 = [0, 2, 2, 6, 7, 8, 8, 3, 1, 8]\n",
    "\n",
    "print(6*5*scal(a1, b1))"
   ]
  },
  {
   "cell_type": "code",
   "execution_count": 202,
   "id": "ebd729af",
   "metadata": {},
   "outputs": [
    {
     "name": "stdout",
     "output_type": "stream",
     "text": [
      "272\n"
     ]
    }
   ],
   "source": [
    "# third vektor\n",
    "\n",
    "a1 = [2, 5, 0, 6, 8, 10, 6, 7, 5, 7]\n",
    "b1 = [8, 6, 7, 9, 6, 6, 2, 3, 2, 3]\n",
    "\n",
    "print(scal(a1, b1))"
   ]
  },
  {
   "cell_type": "code",
   "execution_count": 204,
   "id": "be0605f2",
   "metadata": {},
   "outputs": [
    {
     "name": "stdout",
     "output_type": "stream",
     "text": [
      "165\n"
     ]
    }
   ],
   "source": [
    "# fourth vektor\n",
    "\n",
    "a1 = [9, 6, 7, 7, 0, 1, 6, 8, 1, 2] \n",
    "b1 = [0, 2, 2, 6, 7, 8, 8, 3, 1, 8]\n",
    "\n",
    "print(scal(a1, b1))"
   ]
  },
  {
   "attachments": {
    "image-2.png": {
     "image/png": "[encoded data removed]"
    },
    "image.png": {
     "image/png": "[encoded data removed]"
    }
   },
   "cell_type": "markdown",
   "id": "22b140f2",
   "metadata": {},
   "source": [
    "# Задание 2. Транспонирование матрицы\n",
    "Для следующих заданий сделайте в Python функцию, реализующую транспонирование матрицы произвольной размерности, пользуясь данным в модуле определением. Функция должна принимать и возвращать либо numpy.array, либо двумерный список (list). С помощью написанной вами функции выполните следующие задания:\n",
    "![image.png](attachment:image.png)\n",
    "![image-2.png](attachment:image-2.png)"
   ]
  },
  {
   "cell_type": "code",
   "execution_count": 161,
   "id": "b4314f6d",
   "metadata": {},
   "outputs": [],
   "source": [
    "def print_base_metric(any_metric_lst):\n",
    "    \n",
    "    for row in any_metric_lst:\n",
    "        for col in row:\n",
    "            print(col, end='\\t')\n",
    "        print()"
   ]
  },
  {
   "cell_type": "code",
   "execution_count": 162,
   "id": "037cbd1c",
   "metadata": {},
   "outputs": [],
   "source": [
    "def metric_transpose(any_metric_lst):                            # create function title and set arguments\n",
    "    \n",
    "    for row in range(len(any_metric_lst[0])):                        # row count is equal to any metric elem length\n",
    "        for col in range(len(any_metric_lst)):                       # col count is equal to metric length\n",
    "            print(any_metric_lst[col][row], end='\\t')\n",
    "        print()"
   ]
  },
  {
   "cell_type": "markdown",
   "id": "1dc9a8fe",
   "metadata": {},
   "source": [
    "## first metric"
   ]
  },
  {
   "cell_type": "code",
   "execution_count": 132,
   "id": "01f5d324",
   "metadata": {},
   "outputs": [],
   "source": [
    "metric_1 = [[2, 1, 7, 4], [5, 6, 7, 3], [9, 8, 2, 12], [11, 14, 15, 15]]"
   ]
  },
  {
   "cell_type": "code",
   "execution_count": 153,
   "id": "51e47daa",
   "metadata": {},
   "outputs": [
    {
     "name": "stdout",
     "output_type": "stream",
     "text": [
      "2\t1\t7\t4\t\n",
      "5\t6\t7\t3\t\n",
      "9\t8\t2\t12\t\n",
      "11\t14\t15\t15\t\n"
     ]
    }
   ],
   "source": [
    "print_base_metric(metric_1)"
   ]
  },
  {
   "cell_type": "code",
   "execution_count": 163,
   "id": "8912b781",
   "metadata": {
    "scrolled": true
   },
   "outputs": [
    {
     "name": "stdout",
     "output_type": "stream",
     "text": [
      "2\t5\t9\t11\t\n",
      "1\t6\t8\t14\t\n",
      "7\t7\t2\t15\t\n",
      "4\t3\t12\t15\t\n"
     ]
    }
   ],
   "source": [
    "metric_transpose(metric_1)"
   ]
  },
  {
   "cell_type": "markdown",
   "id": "cfa87221",
   "metadata": {},
   "source": [
    "## second metric"
   ]
  },
  {
   "cell_type": "code",
   "execution_count": 158,
   "id": "05bc3da4",
   "metadata": {},
   "outputs": [],
   "source": [
    "metric_2 = [[3, 7, 8, 3, 6], [2, 5, 9, 4, 13]]"
   ]
  },
  {
   "cell_type": "code",
   "execution_count": 159,
   "id": "bae3aace",
   "metadata": {},
   "outputs": [
    {
     "name": "stdout",
     "output_type": "stream",
     "text": [
      "3\t7\t8\t3\t6\t\n",
      "2\t5\t9\t4\t13\t\n"
     ]
    }
   ],
   "source": [
    "print_base_metric(metric_2)"
   ]
  },
  {
   "cell_type": "code",
   "execution_count": 164,
   "id": "db4de2d7",
   "metadata": {},
   "outputs": [
    {
     "name": "stdout",
     "output_type": "stream",
     "text": [
      "3\t2\t\n",
      "7\t5\t\n",
      "8\t9\t\n",
      "3\t4\t\n",
      "6\t13\t\n"
     ]
    }
   ],
   "source": [
    "metric_transpose(metric_2)"
   ]
  },
  {
   "cell_type": "markdown",
   "id": "96c277d5",
   "metadata": {},
   "source": [
    "# Задание 3. Завершение градиентного спуска\n",
    "Завершите градиентный спуск, начатый в последней теме. Вы можете решать эту задачу с помощью SymPy или вручную. Двигайтесь из точки в точку в направлении антиградиента, размер шага оставьте равным 0.01. Обратите внимание, что в каждой новой точке антиградиент будет разным. Добейтесь величины MSE меньше 6,36. Сколько шагов градиентного спуска вам потребовалось для этого?"
   ]
  },
  {
   "cell_type": "code",
   "execution_count": 166,
   "id": "3376a92e",
   "metadata": {},
   "outputs": [],
   "source": [
    "# point (0.57 0.91) MSE = 8.56"
   ]
  },
  {
   "cell_type": "code",
   "execution_count": 167,
   "id": "c425cab6",
   "metadata": {},
   "outputs": [],
   "source": [
    "a2, a1 = symbols('a2, a1')"
   ]
  },
  {
   "cell_type": "code",
   "execution_count": 168,
   "id": "869112f6",
   "metadata": {},
   "outputs": [
    {
     "data": {
      "image/png": "[encoded data removed]",
      "text/latex": [
       "$\\displaystyle 0.25 \\left(a_{1} + 2 a_{2} - 5\\right)^{2} + 0.25 \\left(2 a_{1} + 4 a_{2} - 10\\right)^{2} + 0.25 \\left(3 a_{1} + 7 a_{2} - 8\\right)^{2} + 0.25 \\left(5 a_{1} + 3 a_{2} - 6\\right)^{2}$"
      ],
      "text/plain": [
       "                    2                          2                         2                         2\n",
       "0.25*(a1 + 2*a2 - 5)  + 0.25*(2*a1 + 4*a2 - 10)  + 0.25*(3*a1 + 7*a2 - 8)  + 0.25*(5*a1 + 3*a2 - 6) "
      ]
     },
     "execution_count": 168,
     "metadata": {},
     "output_type": "execute_result"
    }
   ],
   "source": [
    "MSE = 1/4 * ((a1*1 + a2*2 - 5)**2 + \\\n",
    "             (a1*5 + a2*3 - 6)**2 + \\\n",
    "             (a1*2 + a2*4 - 10)**2 + \\\n",
    "             (a1*3 + a2*7 - 8)**2\n",
    "            )\n",
    "MSE"
   ]
  },
  {
   "cell_type": "markdown",
   "id": "410252ac",
   "metadata": {},
   "source": [
    "## iteration 1"
   ]
  },
  {
   "cell_type": "code",
   "execution_count": 169,
   "id": "26734f09",
   "metadata": {},
   "outputs": [],
   "source": [
    "# step 1 - find vektor for points 0.57 and 0.91 (fit points in MSE private derivatives)\n",
    "\n",
    "point_1, point_2 = (19.5*0.57 + 23*0.91 - 39.5), (23*0.57 + 39*0.91 - 62)"
   ]
  },
  {
   "cell_type": "code",
   "execution_count": 170,
   "id": "3b505fcd",
   "metadata": {},
   "outputs": [
    {
     "data": {
      "image/png": "[encoded data removed]",
      "text/latex": [
       "$\\displaystyle \\left( 0.07455, \\  0.134\\right)$"
      ],
      "text/plain": [
       "(0.07454999999999999, 0.13399999999999998)"
      ]
     },
     "execution_count": 170,
     "metadata": {},
     "output_type": "execute_result"
    }
   ],
   "source": [
    "# step 2 - multiply by 0.01 (anti-gradient step) and get anti-gradient\n",
    "\n",
    "point_1, point_2 = point_1 * -1 * 0.01, point_2 * -1 * 0.01\n",
    "point_1, point_2"
   ]
  },
  {
   "cell_type": "code",
   "execution_count": 171,
   "id": "e969f9b9",
   "metadata": {},
   "outputs": [
    {
     "data": {
      "image/png": "[encoded data removed]",
      "text/latex": [
       "$\\displaystyle \\left( 0.64455, \\  1.044\\right)$"
      ],
      "text/plain": [
       "(0.64455, 1.044)"
      ]
     },
     "execution_count": 171,
     "metadata": {},
     "output_type": "execute_result"
    }
   ],
   "source": [
    "# step 3 - add results to first points\n",
    "point_1, point_2 = point_1 + 0.57, point_2 + 0.91\n",
    "point_1, point_2"
   ]
  },
  {
   "cell_type": "code",
   "execution_count": 172,
   "id": "dff83bd2",
   "metadata": {},
   "outputs": [
    {
     "data": {
      "image/png": "[encoded data removed]",
      "text/latex": [
       "$\\displaystyle 6.843547449375$"
      ],
      "text/plain": [
       "6.84354744937500"
      ]
     },
     "execution_count": 172,
     "metadata": {},
     "output_type": "execute_result"
    }
   ],
   "source": [
    "# step 4 - check MSE\n",
    "MSE.subs({a1: 0.64455, a2: 1.044})"
   ]
  },
  {
   "cell_type": "markdown",
   "id": "d3ca3853",
   "metadata": {},
   "source": [
    "## iteration 2"
   ]
  },
  {
   "cell_type": "code",
   "execution_count": null,
   "id": "08b342a2",
   "metadata": {},
   "outputs": [],
   "source": [
    "# points(0.64455, 1.044)"
   ]
  },
  {
   "cell_type": "code",
   "execution_count": 173,
   "id": "142ef2f1",
   "metadata": {},
   "outputs": [],
   "source": [
    "# step 1 - find vektor for points 0.57 and 0.91 (fit points in MSE private derivatives)\n",
    "\n",
    "point_1, point_2 = (19.5*0.64455 + 23*1.044 - 39.5), (23*0.64455 + 39*1.044 - 62)"
   ]
  },
  {
   "cell_type": "code",
   "execution_count": 174,
   "id": "2c2098f3",
   "metadata": {},
   "outputs": [
    {
     "data": {
      "image/png": "[encoded data removed]",
      "text/latex": [
       "$\\displaystyle \\left( 0.02919275, \\  0.0645935\\right)$"
      ],
      "text/plain": [
       "(0.02919274999999999, 0.06459350000000001)"
      ]
     },
     "execution_count": 174,
     "metadata": {},
     "output_type": "execute_result"
    }
   ],
   "source": [
    "# step 2 - multiply by 0.01 (anti-gradient step) and get anti-gradient\n",
    "\n",
    "point_1, point_2 = point_1 * -1 * 0.01, point_2 * -1 * 0.01\n",
    "point_1, point_2"
   ]
  },
  {
   "cell_type": "code",
   "execution_count": 175,
   "id": "7ffe5111",
   "metadata": {},
   "outputs": [
    {
     "data": {
      "image/png": "[encoded data removed]",
      "text/latex": [
       "$\\displaystyle \\left( 0.67374275, \\  1.1085935\\right)$"
      ],
      "text/plain": [
       "(0.67374275, 1.1085935)"
      ]
     },
     "execution_count": 175,
     "metadata": {},
     "output_type": "execute_result"
    }
   ],
   "source": [
    "# step 3 - add results to first points\n",
    "point_1, point_2 = point_1 + 0.64455, point_2 + 1.044\n",
    "point_1, point_2"
   ]
  },
  {
   "cell_type": "code",
   "execution_count": 176,
   "id": "fb824868",
   "metadata": {},
   "outputs": [
    {
     "data": {
      "image/png": "[encoded data removed]",
      "text/latex": [
       "$\\displaystyle 6.47413334061399$"
      ],
      "text/plain": [
       "6.47413334061399"
      ]
     },
     "execution_count": 176,
     "metadata": {},
     "output_type": "execute_result"
    }
   ],
   "source": [
    "# step 4 - check MSE\n",
    "MSE.subs({a1: 0.67374275, a2: 1.1085935})"
   ]
  },
  {
   "cell_type": "markdown",
   "id": "dd20eaff",
   "metadata": {},
   "source": [
    "## iteration 3"
   ]
  },
  {
   "cell_type": "code",
   "execution_count": 177,
   "id": "41596753",
   "metadata": {},
   "outputs": [],
   "source": [
    "# points(0.67374275, 1.1085935)"
   ]
  },
  {
   "cell_type": "code",
   "execution_count": 178,
   "id": "cd2c8d62",
   "metadata": {},
   "outputs": [],
   "source": [
    "# step 1 - find vektor for points 0.57 and 0.91 (fit points in MSE private derivatives)\n",
    "\n",
    "point_1, point_2 = (19.5*0.67374275 + 23*1.1085935 - 39.5), (23*0.67374275 + 39*1.1085935 - 62)"
   ]
  },
  {
   "cell_type": "code",
   "execution_count": 179,
   "id": "5a7eb909",
   "metadata": {},
   "outputs": [
    {
     "data": {
      "image/png": "[encoded data removed]",
      "text/latex": [
       "$\\displaystyle \\left( 0.00864365875000004, \\  0.0326877025\\right)$"
      ],
      "text/plain": [
       "(0.008643658750000043, 0.032687702500000027)"
      ]
     },
     "execution_count": 179,
     "metadata": {},
     "output_type": "execute_result"
    }
   ],
   "source": [
    "# step 2 - multiply by 0.01 (anti-gradient step) and get anti-gradient\n",
    "\n",
    "point_1, point_2 = point_1 * -1 * 0.01, point_2 * -1 * 0.01\n",
    "point_1, point_2"
   ]
  },
  {
   "cell_type": "code",
   "execution_count": 180,
   "id": "4d81b4e6",
   "metadata": {},
   "outputs": [
    {
     "data": {
      "image/png": "[encoded data removed]",
      "text/latex": [
       "$\\displaystyle \\left( 0.68238640875, \\  1.1412812025\\right)$"
      ],
      "text/plain": [
       "(0.68238640875, 1.1412812025)"
      ]
     },
     "execution_count": 180,
     "metadata": {},
     "output_type": "execute_result"
    }
   ],
   "source": [
    "# step 3 - add results to first points\n",
    "point_1, point_2 = point_1 + 0.67374275, point_2 + 1.1085935\n",
    "point_1, point_2"
   ]
  },
  {
   "cell_type": "code",
   "execution_count": 182,
   "id": "8fd1f286",
   "metadata": {
    "scrolled": true
   },
   "outputs": [
    {
     "data": {
      "image/png": "[encoded data removed]",
      "text/latex": [
       "$\\displaystyle 6.38787584353824$"
      ],
      "text/plain": [
       "6.38787584353824"
      ]
     },
     "execution_count": 182,
     "metadata": {},
     "output_type": "execute_result"
    }
   ],
   "source": [
    "# step 4 - check MSE\n",
    "MSE.subs({a1: 0.68238640875, a2: 1.1412812025})"
   ]
  },
  {
   "cell_type": "markdown",
   "id": "c03b436b",
   "metadata": {},
   "source": [
    "## iteration 4"
   ]
  },
  {
   "cell_type": "code",
   "execution_count": 177,
   "id": "6846f170",
   "metadata": {},
   "outputs": [],
   "source": [
    "# points(0.68238640875, 1.1412812025)"
   ]
  },
  {
   "cell_type": "code",
   "execution_count": 188,
   "id": "635be5c7",
   "metadata": {},
   "outputs": [],
   "source": [
    "# step 1 - find vektor for points 0.57 and 0.91 (fit points in MSE private derivatives)\n",
    "\n",
    "point_1, point_2 = (19.5*0.68238640875 + 23*1.1412812025 - 39.5), (23*0.68238640875 + 39*1.1412812025 - 62)"
   ]
  },
  {
   "cell_type": "code",
   "execution_count": 189,
   "id": "c3ac115c",
   "metadata": {},
   "outputs": [
    {
     "data": {
      "image/png": "[encoded data removed]",
      "text/latex": [
       "$\\displaystyle \\left( -0.000560026281250003, \\  0.0179514570124999\\right)$"
      ],
      "text/plain": [
       "(-0.0005600262812500035, 0.01795145701249993)"
      ]
     },
     "execution_count": 189,
     "metadata": {},
     "output_type": "execute_result"
    }
   ],
   "source": [
    "# step 2 - multiply by 0.01 (anti-gradient step) and get anti-gradient\n",
    "\n",
    "point_1, point_2 = point_1 * -1 * 0.01, point_2 * -1 * 0.01\n",
    "point_1, point_2"
   ]
  },
  {
   "cell_type": "code",
   "execution_count": 190,
   "id": "83d1a336",
   "metadata": {},
   "outputs": [
    {
     "data": {
      "image/png": "[encoded data removed]",
      "text/latex": [
       "$\\displaystyle \\left( 0.68182638246875, \\  1.1592326595125\\right)$"
      ],
      "text/plain": [
       "(0.68182638246875, 1.1592326595125)"
      ]
     },
     "execution_count": 190,
     "metadata": {},
     "output_type": "execute_result"
    }
   ],
   "source": [
    "# step 3 - add results to first points\n",
    "point_1, point_2 = point_1 + 0.68238640875, point_2 + 1.1412812025\n",
    "point_1, point_2"
   ]
  },
  {
   "cell_type": "code",
   "execution_count": 191,
   "id": "9c933a11",
   "metadata": {},
   "outputs": [
    {
     "data": {
      "image/png": "[encoded data removed]",
      "text/latex": [
       "$\\displaystyle 6.36167480075008$"
      ],
      "text/plain": [
       "6.36167480075008"
      ]
     },
     "execution_count": 191,
     "metadata": {},
     "output_type": "execute_result"
    }
   ],
   "source": [
    "# step 4 - check MSE\n",
    "MSE.subs({a1: 0.68182638246875, a2: 1.1592326595125})"
   ]
  },
  {
   "cell_type": "markdown",
   "id": "89dafcba",
   "metadata": {},
   "source": [
    "## iteration 5"
   ]
  },
  {
   "cell_type": "code",
   "execution_count": 177,
   "id": "428f2335",
   "metadata": {},
   "outputs": [],
   "source": [
    "# points (0.68182638246875, 1.1592326595125)"
   ]
  },
  {
   "cell_type": "code",
   "execution_count": 192,
   "id": "bc5a8dee",
   "metadata": {},
   "outputs": [],
   "source": [
    "# step 1 - find vektor for points 0.57 and 0.91 (fit points in MSE private derivatives)\n",
    "\n",
    "point_1, point_2 = (19.5*0.68182638246875 + 23*1.1592326595125 - 39.5), (23*0.68182638246875 + 39*1.1592326595125 - 62)"
   ]
  },
  {
   "cell_type": "code",
   "execution_count": 193,
   "id": "56b28438",
   "metadata": {},
   "outputs": [
    {
     "data": {
      "image/png": "[encoded data removed]",
      "text/latex": [
       "$\\displaystyle \\left( -0.00457965626928129, \\  0.0110791948223125\\right)$"
      ],
      "text/plain": [
       "(-0.004579656269281287, 0.01107919482231246)"
      ]
     },
     "execution_count": 193,
     "metadata": {},
     "output_type": "execute_result"
    }
   ],
   "source": [
    "# step 2 - multiply by 0.01 (anti-gradient step) and get anti-gradient\n",
    "\n",
    "point_1, point_2 = point_1 * -1 * 0.01, point_2 * -1 * 0.01\n",
    "point_1, point_2"
   ]
  },
  {
   "cell_type": "code",
   "execution_count": 194,
   "id": "8f241d38",
   "metadata": {},
   "outputs": [
    {
     "data": {
      "image/png": "[encoded data removed]",
      "text/latex": [
       "$\\displaystyle \\left( 0.677246726199469, \\  1.17031185433481\\right)$"
      ],
      "text/plain": [
       "(0.6772467261994688, 1.1703118543348126)"
      ]
     },
     "execution_count": 194,
     "metadata": {},
     "output_type": "execute_result"
    }
   ],
   "source": [
    "# step 3 - add results to first points\n",
    "point_1, point_2 = point_1 + 0.68182638246875, point_2 + 1.1592326595125\n",
    "point_1, point_2"
   ]
  },
  {
   "cell_type": "code",
   "execution_count": 195,
   "id": "aa5a17a5",
   "metadata": {},
   "outputs": [
    {
     "data": {
      "image/png": "[encoded data removed]",
      "text/latex": [
       "$\\displaystyle 6.34873371109374$"
      ],
      "text/plain": [
       "6.34873371109374"
      ]
     },
     "execution_count": 195,
     "metadata": {},
     "output_type": "execute_result"
    }
   ],
   "source": [
    "# step 4 - check MSE\n",
    "MSE.subs({a1: 0.677246726199469, a2: 1.17031185433481})"
   ]
  },
  {
   "cell_type": "markdown",
   "id": "9445520a",
   "metadata": {},
   "source": [
    "## my conclusion\n",
    "* значения MSE < 6.36 достигли на 5 итерации, то есть понадобилось 5 шагов градиентного спуска + 2 шага с урока, то есть вместе понадобилось 7 шагов"
   ]
  }
 ],
 "metadata": {
  "kernelspec": {
   "display_name": "Python 3 (ipykernel)",
   "language": "python",
   "name": "python3"
  },
  "language_info": {
   "codemirror_mode": {
    "name": "ipython",
    "version": 3
   },
   "file_extension": ".py",
   "mimetype": "text/x-python",
   "name": "python",
   "nbconvert_exporter": "python",
   "pygments_lexer": "ipython3",
   "version": "3.9.7"
  },
  "toc": {
   "base_numbering": 1,
   "nav_menu": {},
   "number_sections": true,
   "sideBar": true,
   "skip_h1_title": false,
   "title_cell": "Table of Contents",
   "title_sidebar": "Contents",
   "toc_cell": false,
   "toc_position": {},
   "toc_section_display": true,
   "toc_window_display": false
  }
 },
 "nbformat": 4,
 "nbformat_minor": 5
}
